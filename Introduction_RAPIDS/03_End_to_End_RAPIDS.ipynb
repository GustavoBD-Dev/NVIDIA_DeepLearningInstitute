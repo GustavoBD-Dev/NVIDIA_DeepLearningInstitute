{
  "cells": [
    {
      "cell_type": "markdown",
      "id": "12b84d8e-0f54-48c3-8a5f-c48161743f79",
      "metadata": {
        "id": "12b84d8e-0f54-48c3-8a5f-c48161743f79"
      },
      "source": [
        "# Introduction to End-to-End RAPIDS Workflows"
      ]
    },
    {
      "cell_type": "markdown",
      "id": "f12fb5e1-f301-484f-abaf-acfcb2c7bfc7",
      "metadata": {
        "id": "f12fb5e1-f301-484f-abaf-acfcb2c7bfc7"
      },
      "source": [
        "This tutorial will teach developers how to build an end-to-end workflow with cuDF, cuML, and accelerated XGBoost. You will have the chance to ingest data, conduct ETL, perform EDA, train an XGBoost model, and use SHAP to gain insights into the predictions made by the model.\n",
        "\n",
        "\n",
        "We're going to be working with data from the [CitiBike data set](https://console.cloud.google.com/marketplace/product/city-of-new-york/nyc-citi-bike?pli=1&project=nv-ai-infra). CitiBike is a bike rental company which operates in NYC. Bikes are 'stored' at docking stations around the city, and users can rent a bike and return it to any docking station. We will use the historical information to attempt to predict the duration of a user's ride, given their starting station, as well as some other information.\n",
        "\n",
        "\n",
        "Before we begin, we're going to check what kind of GPU we have using [nvidia-smi](https://developer.nvidia.com/nvidia-system-management-interface). `nvidia-smi` has a whole range of functions described at the link. We are just going to use it to see general information about our GPU."
      ]
    },
    {
      "cell_type": "code",
      "execution_count": null,
      "id": "ebf90750-1bd8-4a09-b382-4bb276dd0e3e",
      "metadata": {
        "colab": {
          "base_uri": "https://localhost:8080/"
        },
        "id": "ebf90750-1bd8-4a09-b382-4bb276dd0e3e",
        "outputId": "21bcfee4-52d4-478b-deb1-2613f038145e"
      },
      "outputs": [
        {
          "output_type": "stream",
          "name": "stdout",
          "text": [
            "Wed Nov 20 14:10:48 2024       \n",
            "+---------------------------------------------------------------------------------------+\n",
            "| NVIDIA-SMI 535.104.05             Driver Version: 535.104.05   CUDA Version: 12.2     |\n",
            "|-----------------------------------------+----------------------+----------------------+\n",
            "| GPU  Name                 Persistence-M | Bus-Id        Disp.A | Volatile Uncorr. ECC |\n",
            "| Fan  Temp   Perf          Pwr:Usage/Cap |         Memory-Usage | GPU-Util  Compute M. |\n",
            "|                                         |                      |               MIG M. |\n",
            "|=========================================+======================+======================|\n",
            "|   0  Tesla T4                       Off | 00000000:00:04.0 Off |                    0 |\n",
            "| N/A   43C    P8               9W /  70W |      0MiB / 15360MiB |      0%      Default |\n",
            "|                                         |                      |                  N/A |\n",
            "+-----------------------------------------+----------------------+----------------------+\n",
            "                                                                                         \n",
            "+---------------------------------------------------------------------------------------+\n",
            "| Processes:                                                                            |\n",
            "|  GPU   GI   CI        PID   Type   Process name                            GPU Memory |\n",
            "|        ID   ID                                                             Usage      |\n",
            "|=======================================================================================|\n",
            "|  No running processes found                                                           |\n",
            "+---------------------------------------------------------------------------------------+\n"
          ]
        }
      ],
      "source": [
        "!nvidia-smi"
      ]
    },
    {
      "cell_type": "markdown",
      "id": "f888a4c0-5535-4298-8c04-f43b2cce333f",
      "metadata": {
        "id": "f888a4c0-5535-4298-8c04-f43b2cce333f"
      },
      "source": [
        "Here we see that we have a [16 GB card](https://www.google.com/search?q=mib+to+gb&ei=3s07YsmeELHt9AP4z5zgDg&ved=0ahUKEwjJhbPQ0N32AhWxNn0KHfgnB-wQ4dUDCA4&uact=5&oq=mib+to+gb&gs_lcp=Cgdnd3Mtd2l6EAMyBwgAEEcQsAMyBwgAEEcQsAMyBwgAEEcQsAMyBwgAEEcQsAMyBwgAEEcQsAMyBwgAEEcQsAMyBwgAEEcQsAMyBwgAEEcQsAMyBwgAELADEEMyBwgAELADEEMyBwgAELADEEMyBwgAELADEEMyCggAEOQCELADGAEyCggAEOQCELADGAEyCggAEOQCELADGAEyDwguENQCEMgDELADEEMYAjIPCC4Q1AIQyAMQsAMQQxgCSgQIQRgASgQIRhgBUABYAGCABmgBcAF4AIABAIgBAJIBAJgBAMgBEcABAdoBBggBEAEYCdoBBggCEAEYCA&sclient=gws-wiz). If we had multiple cards, we would use `dask_cudf`. This will be covered in another notebook."
      ]
    },
    {
      "cell_type": "markdown",
      "id": "e378859f-24b0-4a09-a1c3-207d4b2a388d",
      "metadata": {
        "id": "e378859f-24b0-4a09-a1c3-207d4b2a388d"
      },
      "source": [
        "## Importing the data\n",
        "\n",
        "Before we begin, we need to install a couple of packages.\n"
      ]
    },
    {
      "cell_type": "code",
      "source": [
        "import locale\n",
        "def getpreferredencoding(do_setlocale = True):\n",
        "    return \"UTF-8\"\n",
        "locale.getpreferredencoding = getpreferredencoding"
      ],
      "metadata": {
        "id": "U8syrp6hNdXQ"
      },
      "id": "U8syrp6hNdXQ",
      "execution_count": null,
      "outputs": []
    },
    {
      "cell_type": "code",
      "execution_count": null,
      "id": "a629b283-6316-4f5c-8e4e-458e3b1496b2",
      "metadata": {
        "id": "a629b283-6316-4f5c-8e4e-458e3b1496b2"
      },
      "outputs": [],
      "source": [
        "!pip install google-cloud-bigquery"
      ]
    },
    {
      "cell_type": "code",
      "execution_count": null,
      "id": "a9e8a2cd-3648-47de-b139-372f2d5c7b3f",
      "metadata": {
        "id": "a9e8a2cd-3648-47de-b139-372f2d5c7b3f"
      },
      "outputs": [],
      "source": [
        "!pip install db_dtypes"
      ]
    },
    {
      "cell_type": "code",
      "source": [
        "# This get the RAPIDS-Colab install files and test check your GPU.  Run this and the next cell only.\n",
        "# Please read the output of this cell.  If your Colab Instance is not RAPIDS compatible, it will warn you and give you remediation steps.\n",
        "!git clone https://github.com/rapidsai/rapidsai-csp-utils.git\n",
        "!python rapidsai-csp-utils/colab/pip-install.py"
      ],
      "metadata": {
        "colab": {
          "base_uri": "https://localhost:8080/"
        },
        "id": "sDZOWLNPNUcY",
        "outputId": "7782e912-ead5-4ad0-dcb8-babc4c07be5e"
      },
      "id": "sDZOWLNPNUcY",
      "execution_count": null,
      "outputs": [
        {
          "output_type": "stream",
          "name": "stdout",
          "text": [
            "Cloning into 'rapidsai-csp-utils'...\n",
            "remote: Enumerating objects: 535, done.\u001b[K\n",
            "remote: Counting objects: 100% (266/266), done.\u001b[K\n",
            "remote: Compressing objects: 100% (172/172), done.\u001b[K\n",
            "remote: Total 535 (delta 174), reused 130 (delta 94), pack-reused 269 (from 1)\u001b[K\n",
            "Receiving objects: 100% (535/535), 172.47 KiB | 7.19 MiB/s, done.\n",
            "Resolving deltas: 100% (276/276), done.\n",
            "Collecting pynvml\n",
            "  Downloading pynvml-11.5.3-py3-none-any.whl.metadata (8.8 kB)\n",
            "Downloading pynvml-11.5.3-py3-none-any.whl (53 kB)\n",
            "   ━━━━━━━━━━━━━━━━━━━━━━━━━━━━━━━━━━━━━━━━ 53.1/53.1 kB 2.8 MB/s eta 0:00:00\n",
            "Installing collected packages: pynvml\n",
            "Successfully installed pynvml-11.5.3\n",
            "Installing RAPIDS remaining 24.10.* libraries\n",
            "Looking in indexes: https://pypi.org/simple, https://pypi.nvidia.com\n",
            "Requirement already satisfied: cudf-cu12==24.10.* in /usr/local/lib/python3.10/dist-packages (24.10.1)\n",
            "Collecting cuml-cu12==24.10.*\n",
            "  Downloading https://pypi.nvidia.com/cuml-cu12/cuml_cu12-24.10.0-cp310-cp310-manylinux_2_28_x86_64.whl (567.7 MB)\n",
            "     ━━━━━━━━━━━━━━━━━━━━━━━━━━━━━━━━━━━━━━━━ 567.7/567.7 MB 3.8 MB/s eta 0:00:00\n",
            "Collecting cugraph-cu12==24.10.*\n",
            "  Downloading https://pypi.nvidia.com/cugraph-cu12/cugraph_cu12-24.10.0-cp310-cp310-manylinux_2_28_x86_64.whl (1315.2 MB)\n",
            "     ━━━━━━━━━━━━━━━━━━━━━━━━━━━━━━━━━━━━━━━━ 1.3/1.3 GB 865.7 kB/s eta 0:00:00\n",
            "Collecting cuspatial-cu12==24.10.*\n",
            "  Downloading https://pypi.nvidia.com/cuspatial-cu12/cuspatial_cu12-24.10.0-cp310-cp310-manylinux_2_24_x86_64.manylinux_2_28_x86_64.whl (4.3 MB)\n",
            "     ━━━━━━━━━━━━━━━━━━━━━━━━━━━━━━━━━━━━━━━━ 4.3/4.3 MB 98.8 MB/s eta 0:00:00\n",
            "Collecting cuproj-cu12==24.10.*\n",
            "  Downloading https://pypi.nvidia.com/cuproj-cu12/cuproj_cu12-24.10.0-cp310-cp310-manylinux_2_24_x86_64.manylinux_2_28_x86_64.whl (915 kB)\n",
            "     ━━━━━━━━━━━━━━━━━━━━━━━━━━━━━━━━━━━━━━━━ 915.5/915.5 kB 54.3 MB/s eta 0:00:00\n",
            "Collecting cuxfilter-cu12==24.10.*\n",
            "  Downloading https://pypi.nvidia.com/cuxfilter-cu12/cuxfilter_cu12-24.10.0-py3-none-any.whl (83 kB)\n",
            "     ━━━━━━━━━━━━━━━━━━━━━━━━━━━━━━━━━━━━━━━━ 83.6/83.6 kB 8.3 MB/s eta 0:00:00\n",
            "Collecting cucim-cu12==24.10.*\n",
            "  Downloading https://pypi.nvidia.com/cucim-cu12/cucim_cu12-24.10.0-cp310-cp310-manylinux_2_28_x86_64.whl (5.6 MB)\n",
            "     ━━━━━━━━━━━━━━━━━━━━━━━━━━━━━━━━━━━━━━━━ 5.6/5.6 MB 98.3 MB/s eta 0:00:00\n",
            "Requirement already satisfied: pylibraft-cu12==24.10.* in /usr/local/lib/python3.10/dist-packages (24.10.0)\n",
            "Collecting raft-dask-cu12==24.10.*\n",
            "  Downloading https://pypi.nvidia.com/raft-dask-cu12/raft_dask_cu12-24.10.0-cp310-cp310-manylinux_2_28_x86_64.whl (196.9 MB)\n",
            "     ━━━━━━━━━━━━━━━━━━━━━━━━━━━━━━━━━━━━━━━━ 196.9/196.9 MB 6.0 MB/s eta 0:00:00\n",
            "Requirement already satisfied: nx-cugraph-cu12==24.10.* in /usr/local/lib/python3.10/dist-packages (24.10.0)\n",
            "Requirement already satisfied: aiohttp in /usr/local/lib/python3.10/dist-packages (3.11.1)\n",
            "Requirement already satisfied: cachetools in /usr/local/lib/python3.10/dist-packages (from cudf-cu12==24.10.*) (5.5.0)\n",
            "Requirement already satisfied: cuda-python<13.0a0,>=12.0 in /usr/local/lib/python3.10/dist-packages (from cudf-cu12==24.10.*) (12.2.1)\n",
            "Requirement already satisfied: cupy-cuda12x>=12.0.0 in /usr/local/lib/python3.10/dist-packages (from cudf-cu12==24.10.*) (12.2.0)\n",
            "Requirement already satisfied: fsspec>=0.6.0 in /usr/local/lib/python3.10/dist-packages (from cudf-cu12==24.10.*) (2024.10.0)\n",
            "Requirement already satisfied: libcudf-cu12==24.10.* in /usr/local/lib/python3.10/dist-packages (from cudf-cu12==24.10.*) (24.10.1)\n",
            "Requirement already satisfied: numba>=0.57 in /usr/local/lib/python3.10/dist-packages (from cudf-cu12==24.10.*) (0.60.0)\n",
            "Requirement already satisfied: numpy<3.0a0,>=1.23 in /usr/local/lib/python3.10/dist-packages (from cudf-cu12==24.10.*) (1.26.4)\n",
            "Requirement already satisfied: nvtx>=0.2.1 in /usr/local/lib/python3.10/dist-packages (from cudf-cu12==24.10.*) (0.2.10)\n",
            "Requirement already satisfied: packaging in /usr/local/lib/python3.10/dist-packages (from cudf-cu12==24.10.*) (24.2)\n",
            "Requirement already satisfied: pandas<2.2.3dev0,>=2.0 in /usr/local/lib/python3.10/dist-packages (from cudf-cu12==24.10.*) (2.2.2)\n",
            "Requirement already satisfied: pyarrow<18.0.0a0,>=14.0.0 in /usr/local/lib/python3.10/dist-packages (from cudf-cu12==24.10.*) (17.0.0)\n",
            "Requirement already satisfied: pylibcudf-cu12==24.10.* in /usr/local/lib/python3.10/dist-packages (from cudf-cu12==24.10.*) (24.10.1)\n",
            "Requirement already satisfied: pynvjitlink-cu12 in /usr/local/lib/python3.10/dist-packages (from cudf-cu12==24.10.*) (0.4.0)\n",
            "Requirement already satisfied: rich in /usr/local/lib/python3.10/dist-packages (from cudf-cu12==24.10.*) (13.9.4)\n",
            "Requirement already satisfied: rmm-cu12==24.10.* in /usr/local/lib/python3.10/dist-packages (from cudf-cu12==24.10.*) (24.10.0)\n",
            "Requirement already satisfied: typing_extensions>=4.0.0 in /usr/local/lib/python3.10/dist-packages (from cudf-cu12==24.10.*) (4.12.2)\n",
            "Collecting cuvs-cu12==24.10.* (from cuml-cu12==24.10.*)\n",
            "  Downloading https://pypi.nvidia.com/cuvs-cu12/cuvs_cu12-24.10.0-cp310-cp310-manylinux_2_28_x86_64.whl (836.6 MB)\n",
            "     ━━━━━━━━━━━━━━━━━━━━━━━━━━━━━━━━━━━━━━━━ 836.6/836.6 MB 1.7 MB/s eta 0:00:00\n",
            "Collecting dask-cuda==24.10.* (from cuml-cu12==24.10.*)\n",
            "  Downloading https://pypi.nvidia.com/dask-cuda/dask_cuda-24.10.0-py3-none-any.whl (133 kB)\n",
            "     ━━━━━━━━━━━━━━━━━━━━━━━━━━━━━━━━━━━━━━━━ 133.2/133.2 kB 11.4 MB/s eta 0:00:00\n",
            "Collecting dask-cudf-cu12==24.10.* (from cuml-cu12==24.10.*)\n",
            "  Downloading https://pypi.nvidia.com/dask-cudf-cu12/dask_cudf_cu12-24.10.1-py3-none-any.whl (56 kB)\n",
            "     ━━━━━━━━━━━━━━━━━━━━━━━━━━━━━━━━━━━━━━━━ 56.3/56.3 kB 5.3 MB/s eta 0:00:00\n",
            "Requirement already satisfied: joblib>=0.11 in /usr/local/lib/python3.10/dist-packages (from cuml-cu12==24.10.*) (1.4.2)\n",
            "Requirement already satisfied: nvidia-cublas-cu12 in /usr/local/lib/python3.10/dist-packages (from cuml-cu12==24.10.*) (12.6.3.3)\n",
            "Requirement already satisfied: nvidia-cufft-cu12 in /usr/local/lib/python3.10/dist-packages (from cuml-cu12==24.10.*) (11.3.0.4)\n",
            "Requirement already satisfied: nvidia-curand-cu12 in /usr/local/lib/python3.10/dist-packages (from cuml-cu12==24.10.*) (10.3.7.77)\n",
            "Requirement already satisfied: nvidia-cusolver-cu12 in /usr/local/lib/python3.10/dist-packages (from cuml-cu12==24.10.*) (11.7.1.2)\n",
            "Requirement already satisfied: nvidia-cusparse-cu12 in /usr/local/lib/python3.10/dist-packages (from cuml-cu12==24.10.*) (12.5.4.2)\n",
            "Collecting rapids-dask-dependency==24.10.* (from cuml-cu12==24.10.*)\n",
            "  Downloading https://pypi.nvidia.com/rapids-dask-dependency/rapids_dask_dependency-24.10.0-py3-none-any.whl (15 kB)\n",
            "Requirement already satisfied: scipy>=1.8.0 in /usr/local/lib/python3.10/dist-packages (from cuml-cu12==24.10.*) (1.13.1)\n",
            "Collecting treelite==4.3.0 (from cuml-cu12==24.10.*)\n",
            "  Downloading treelite-4.3.0-py3-none-manylinux2014_x86_64.whl.metadata (1.5 kB)\n",
            "Requirement already satisfied: pylibcugraph-cu12==24.10.* in /usr/local/lib/python3.10/dist-packages (from cugraph-cu12==24.10.*) (24.10.0)\n",
            "Collecting ucx-py-cu12==0.40.* (from cugraph-cu12==24.10.*)\n",
            "  Downloading https://pypi.nvidia.com/ucx-py-cu12/ucx_py_cu12-0.40.0-cp310-cp310-manylinux_2_17_x86_64.manylinux2014_x86_64.manylinux_2_28_x86_64.whl (2.1 MB)\n",
            "     ━━━━━━━━━━━━━━━━━━━━━━━━━━━━━━━━━━━━━━━━ 2.1/2.1 MB 59.0 MB/s eta 0:00:00\n",
            "Requirement already satisfied: geopandas>=1.0.0 in /usr/local/lib/python3.10/dist-packages (from cuspatial-cu12==24.10.*) (1.0.1)\n",
            "Collecting libcuspatial-cu12==24.10.* (from cuspatial-cu12==24.10.*)\n",
            "  Downloading https://pypi.nvidia.com/libcuspatial-cu12/libcuspatial_cu12-24.10.0-py3-none-manylinux_2_24_x86_64.manylinux_2_28_x86_64.whl (17.7 MB)\n",
            "     ━━━━━━━━━━━━━━━━━━━━━━━━━━━━━━━━━━━━━━━━ 17.7/17.7 MB 67.9 MB/s eta 0:00:00\n",
            "Requirement already satisfied: bokeh>=3.1 in /usr/local/lib/python3.10/dist-packages (from cuxfilter-cu12==24.10.*) (3.6.1)\n",
            "Collecting datashader>=0.15 (from cuxfilter-cu12==24.10.*)\n",
            "  Downloading datashader-0.16.3-py2.py3-none-any.whl.metadata (12 kB)\n",
            "Requirement already satisfied: holoviews>=1.16.0 in /usr/local/lib/python3.10/dist-packages (from cuxfilter-cu12==24.10.*) (1.20.0)\n",
            "Collecting jupyter-server-proxy (from cuxfilter-cu12==24.10.*)\n",
            "  Downloading jupyter_server_proxy-4.4.0-py3-none-any.whl.metadata (8.7 kB)\n",
            "Requirement already satisfied: panel>=1.0 in /usr/local/lib/python3.10/dist-packages (from cuxfilter-cu12==24.10.*) (1.5.4)\n",
            "Requirement already satisfied: click in /usr/local/lib/python3.10/dist-packages (from cucim-cu12==24.10.*) (8.1.7)\n",
            "Requirement already satisfied: lazy-loader>=0.1 in /usr/local/lib/python3.10/dist-packages (from cucim-cu12==24.10.*) (0.4)\n",
            "Requirement already satisfied: scikit-image<0.25.0a0,>=0.19.0 in /usr/local/lib/python3.10/dist-packages (from cucim-cu12==24.10.*) (0.24.0)\n",
            "Collecting distributed-ucxx-cu12==0.40.* (from raft-dask-cu12==24.10.*)\n",
            "  Downloading https://pypi.nvidia.com/distributed-ucxx-cu12/distributed_ucxx_cu12-0.40.0-py3-none-any.whl (24 kB)\n",
            "Requirement already satisfied: networkx>=3.0 in /usr/local/lib/python3.10/dist-packages (from nx-cugraph-cu12==24.10.*) (3.4.2)\n",
            "Collecting pynvml<11.5,>=11.0.0 (from dask-cuda==24.10.*->cuml-cu12==24.10.*)\n",
            "  Downloading pynvml-11.4.1-py3-none-any.whl.metadata (7.7 kB)\n",
            "Collecting zict>=2.0.0 (from dask-cuda==24.10.*->cuml-cu12==24.10.*)\n",
            "  Downloading zict-3.0.0-py2.py3-none-any.whl.metadata (899 bytes)\n",
            "Collecting ucxx-cu12==0.40.* (from distributed-ucxx-cu12==0.40.*->raft-dask-cu12==24.10.*)\n",
            "  Downloading https://pypi.nvidia.com/ucxx-cu12/ucxx_cu12-0.40.0-cp310-cp310-manylinux_2_27_x86_64.manylinux_2_28_x86_64.whl (722 kB)\n",
            "     ━━━━━━━━━━━━━━━━━━━━━━━━━━━━━━━━━━━━━━━━ 722.7/722.7 kB 48.4 MB/s eta 0:00:00\n",
            "Collecting dask==2024.9.0 (from rapids-dask-dependency==24.10.*->cuml-cu12==24.10.*)\n",
            "  Downloading dask-2024.9.0-py3-none-any.whl.metadata (3.7 kB)\n",
            "Collecting distributed==2024.9.0 (from rapids-dask-dependency==24.10.*->cuml-cu12==24.10.*)\n",
            "  Downloading distributed-2024.9.0-py3-none-any.whl.metadata (3.3 kB)\n",
            "Collecting dask-expr==1.1.14 (from rapids-dask-dependency==24.10.*->cuml-cu12==24.10.*)\n",
            "  Downloading dask_expr-1.1.14-py3-none-any.whl.metadata (2.5 kB)\n",
            "Collecting libucx-cu12<1.18,>=1.15.0 (from ucx-py-cu12==0.40.*->cugraph-cu12==24.10.*)\n",
            "  Downloading libucx_cu12-1.17.0-py3-none-manylinux_2_28_x86_64.whl.metadata (2.9 kB)\n",
            "Requirement already satisfied: cloudpickle>=3.0.0 in /usr/local/lib/python3.10/dist-packages (from dask==2024.9.0->rapids-dask-dependency==24.10.*->cuml-cu12==24.10.*) (3.1.0)\n",
            "Requirement already satisfied: partd>=1.4.0 in /usr/local/lib/python3.10/dist-packages (from dask==2024.9.0->rapids-dask-dependency==24.10.*->cuml-cu12==24.10.*) (1.4.2)\n",
            "Requirement already satisfied: pyyaml>=5.3.1 in /usr/local/lib/python3.10/dist-packages (from dask==2024.9.0->rapids-dask-dependency==24.10.*->cuml-cu12==24.10.*) (6.0.2)\n",
            "Requirement already satisfied: toolz>=0.10.0 in /usr/local/lib/python3.10/dist-packages (from dask==2024.9.0->rapids-dask-dependency==24.10.*->cuml-cu12==24.10.*) (0.12.1)\n",
            "Requirement already satisfied: importlib-metadata>=4.13.0 in /usr/local/lib/python3.10/dist-packages (from dask==2024.9.0->rapids-dask-dependency==24.10.*->cuml-cu12==24.10.*) (8.5.0)\n",
            "Requirement already satisfied: jinja2>=2.10.3 in /usr/local/lib/python3.10/dist-packages (from distributed==2024.9.0->rapids-dask-dependency==24.10.*->cuml-cu12==24.10.*) (3.1.4)\n",
            "Requirement already satisfied: locket>=1.0.0 in /usr/local/lib/python3.10/dist-packages (from distributed==2024.9.0->rapids-dask-dependency==24.10.*->cuml-cu12==24.10.*) (1.0.0)\n",
            "Requirement already satisfied: msgpack>=1.0.2 in /usr/local/lib/python3.10/dist-packages (from distributed==2024.9.0->rapids-dask-dependency==24.10.*->cuml-cu12==24.10.*) (1.1.0)\n",
            "Requirement already satisfied: psutil>=5.8.0 in /usr/local/lib/python3.10/dist-packages (from distributed==2024.9.0->rapids-dask-dependency==24.10.*->cuml-cu12==24.10.*) (5.9.5)\n",
            "Collecting sortedcontainers>=2.0.5 (from distributed==2024.9.0->rapids-dask-dependency==24.10.*->cuml-cu12==24.10.*)\n",
            "  Downloading sortedcontainers-2.4.0-py2.py3-none-any.whl.metadata (10 kB)\n",
            "Collecting tblib>=1.6.0 (from distributed==2024.9.0->rapids-dask-dependency==24.10.*->cuml-cu12==24.10.*)\n",
            "  Downloading tblib-3.0.0-py3-none-any.whl.metadata (25 kB)\n",
            "Requirement already satisfied: tornado>=6.2.0 in /usr/local/lib/python3.10/dist-packages (from distributed==2024.9.0->rapids-dask-dependency==24.10.*->cuml-cu12==24.10.*) (6.3.3)\n",
            "Requirement already satisfied: urllib3>=1.26.5 in /usr/local/lib/python3.10/dist-packages (from distributed==2024.9.0->rapids-dask-dependency==24.10.*->cuml-cu12==24.10.*) (2.2.3)\n",
            "Collecting libucxx-cu12==0.40.* (from ucxx-cu12==0.40.*->distributed-ucxx-cu12==0.40.*->raft-dask-cu12==24.10.*)\n",
            "  Downloading https://pypi.nvidia.com/libucxx-cu12/libucxx_cu12-0.40.0-py3-none-manylinux_2_24_x86_64.manylinux_2_28_x86_64.whl (511 kB)\n",
            "     ━━━━━━━━━━━━━━━━━━━━━━━━━━━━━━━━━━━━━━━━ 511.7/511.7 kB 32.5 MB/s eta 0:00:00\n",
            "Requirement already satisfied: aiohappyeyeballs>=2.3.0 in /usr/local/lib/python3.10/dist-packages (from aiohttp) (2.4.3)\n",
            "Requirement already satisfied: aiosignal>=1.1.2 in /usr/local/lib/python3.10/dist-packages (from aiohttp) (1.3.1)\n",
            "Requirement already satisfied: attrs>=17.3.0 in /usr/local/lib/python3.10/dist-packages (from aiohttp) (24.2.0)\n",
            "Requirement already satisfied: frozenlist>=1.1.1 in /usr/local/lib/python3.10/dist-packages (from aiohttp) (1.5.0)\n",
            "Requirement already satisfied: multidict<7.0,>=4.5 in /usr/local/lib/python3.10/dist-packages (from aiohttp) (6.1.0)\n",
            "Requirement already satisfied: propcache>=0.2.0 in /usr/local/lib/python3.10/dist-packages (from aiohttp) (0.2.0)\n",
            "Requirement already satisfied: yarl<2.0,>=1.17.0 in /usr/local/lib/python3.10/dist-packages (from aiohttp) (1.17.1)\n",
            "Requirement already satisfied: async-timeout<6.0,>=4.0 in /usr/local/lib/python3.10/dist-packages (from aiohttp) (4.0.3)\n",
            "Requirement already satisfied: contourpy>=1.2 in /usr/local/lib/python3.10/dist-packages (from bokeh>=3.1->cuxfilter-cu12==24.10.*) (1.3.1)\n",
            "Requirement already satisfied: pillow>=7.1.0 in /usr/local/lib/python3.10/dist-packages (from bokeh>=3.1->cuxfilter-cu12==24.10.*) (11.0.0)\n",
            "Requirement already satisfied: xyzservices>=2021.09.1 in /usr/local/lib/python3.10/dist-packages (from bokeh>=3.1->cuxfilter-cu12==24.10.*) (2024.9.0)\n",
            "Requirement already satisfied: cython in /usr/local/lib/python3.10/dist-packages (from cuda-python<13.0a0,>=12.0->cudf-cu12==24.10.*) (3.0.11)\n",
            "Requirement already satisfied: fastrlock>=0.5 in /usr/local/lib/python3.10/dist-packages (from cupy-cuda12x>=12.0.0->cudf-cu12==24.10.*) (0.8.2)\n",
            "Requirement already satisfied: colorcet in /usr/local/lib/python3.10/dist-packages (from datashader>=0.15->cuxfilter-cu12==24.10.*) (3.1.0)\n",
            "Requirement already satisfied: multipledispatch in /usr/local/lib/python3.10/dist-packages (from datashader>=0.15->cuxfilter-cu12==24.10.*) (1.0.0)\n",
            "Requirement already satisfied: param in /usr/local/lib/python3.10/dist-packages (from datashader>=0.15->cuxfilter-cu12==24.10.*) (2.1.1)\n",
            "Collecting pyct (from datashader>=0.15->cuxfilter-cu12==24.10.*)\n",
            "  Downloading pyct-0.5.0-py2.py3-none-any.whl.metadata (7.4 kB)\n",
            "Requirement already satisfied: requests in /usr/local/lib/python3.10/dist-packages (from datashader>=0.15->cuxfilter-cu12==24.10.*) (2.32.3)\n",
            "Requirement already satisfied: xarray in /usr/local/lib/python3.10/dist-packages (from datashader>=0.15->cuxfilter-cu12==24.10.*) (2024.10.0)\n",
            "Requirement already satisfied: pyogrio>=0.7.2 in /usr/local/lib/python3.10/dist-packages (from geopandas>=1.0.0->cuspatial-cu12==24.10.*) (0.10.0)\n",
            "Requirement already satisfied: pyproj>=3.3.0 in /usr/local/lib/python3.10/dist-packages (from geopandas>=1.0.0->cuspatial-cu12==24.10.*) (3.7.0)\n",
            "Requirement already satisfied: shapely>=2.0.0 in /usr/local/lib/python3.10/dist-packages (from geopandas>=1.0.0->cuspatial-cu12==24.10.*) (2.0.6)\n",
            "Requirement already satisfied: pyviz-comms>=2.1 in /usr/local/lib/python3.10/dist-packages (from holoviews>=1.16.0->cuxfilter-cu12==24.10.*) (3.0.3)\n",
            "Requirement already satisfied: llvmlite<0.44,>=0.43.0dev0 in /usr/local/lib/python3.10/dist-packages (from numba>=0.57->cudf-cu12==24.10.*) (0.43.0)\n",
            "Requirement already satisfied: python-dateutil>=2.8.2 in /usr/local/lib/python3.10/dist-packages (from pandas<2.2.3dev0,>=2.0->cudf-cu12==24.10.*) (2.8.2)\n",
            "Requirement already satisfied: pytz>=2020.1 in /usr/local/lib/python3.10/dist-packages (from pandas<2.2.3dev0,>=2.0->cudf-cu12==24.10.*) (2024.2)\n",
            "Requirement already satisfied: tzdata>=2022.7 in /usr/local/lib/python3.10/dist-packages (from pandas<2.2.3dev0,>=2.0->cudf-cu12==24.10.*) (2024.2)\n",
            "Requirement already satisfied: bleach in /usr/local/lib/python3.10/dist-packages (from panel>=1.0->cuxfilter-cu12==24.10.*) (6.2.0)\n",
            "Requirement already satisfied: linkify-it-py in /usr/local/lib/python3.10/dist-packages (from panel>=1.0->cuxfilter-cu12==24.10.*) (2.0.3)\n",
            "Requirement already satisfied: markdown in /usr/local/lib/python3.10/dist-packages (from panel>=1.0->cuxfilter-cu12==24.10.*) (3.7)\n",
            "Requirement already satisfied: markdown-it-py in /usr/local/lib/python3.10/dist-packages (from panel>=1.0->cuxfilter-cu12==24.10.*) (3.0.0)\n",
            "Requirement already satisfied: mdit-py-plugins in /usr/local/lib/python3.10/dist-packages (from panel>=1.0->cuxfilter-cu12==24.10.*) (0.4.2)\n",
            "Requirement already satisfied: tqdm in /usr/local/lib/python3.10/dist-packages (from panel>=1.0->cuxfilter-cu12==24.10.*) (4.66.6)\n",
            "Requirement already satisfied: imageio>=2.33 in /usr/local/lib/python3.10/dist-packages (from scikit-image<0.25.0a0,>=0.19.0->cucim-cu12==24.10.*) (2.36.0)\n",
            "Requirement already satisfied: tifffile>=2022.8.12 in /usr/local/lib/python3.10/dist-packages (from scikit-image<0.25.0a0,>=0.19.0->cucim-cu12==24.10.*) (2024.9.20)\n",
            "Requirement already satisfied: idna>=2.0 in /usr/local/lib/python3.10/dist-packages (from yarl<2.0,>=1.17.0->aiohttp) (3.10)\n",
            "Requirement already satisfied: jupyter-server>=1.24.0 in /usr/local/lib/python3.10/dist-packages (from jupyter-server-proxy->cuxfilter-cu12==24.10.*) (1.24.0)\n",
            "Collecting simpervisor>=1.0.0 (from jupyter-server-proxy->cuxfilter-cu12==24.10.*)\n",
            "  Downloading simpervisor-1.0.0-py3-none-any.whl.metadata (4.3 kB)\n",
            "Requirement already satisfied: traitlets>=5.1.0 in /usr/local/lib/python3.10/dist-packages (from jupyter-server-proxy->cuxfilter-cu12==24.10.*) (5.7.1)\n",
            "Requirement already satisfied: nvidia-nvjitlink-cu12 in /usr/local/lib/python3.10/dist-packages (from nvidia-cufft-cu12->cuml-cu12==24.10.*) (12.6.77)\n",
            "Requirement already satisfied: pygments<3.0.0,>=2.13.0 in /usr/local/lib/python3.10/dist-packages (from rich->cudf-cu12==24.10.*) (2.18.0)\n",
            "Requirement already satisfied: MarkupSafe>=2.0 in /usr/local/lib/python3.10/dist-packages (from jinja2>=2.10.3->distributed==2024.9.0->rapids-dask-dependency==24.10.*->cuml-cu12==24.10.*) (3.0.2)\n",
            "Requirement already satisfied: anyio<4,>=3.1.0 in /usr/local/lib/python3.10/dist-packages (from jupyter-server>=1.24.0->jupyter-server-proxy->cuxfilter-cu12==24.10.*) (3.7.1)\n",
            "Requirement already satisfied: argon2-cffi in /usr/local/lib/python3.10/dist-packages (from jupyter-server>=1.24.0->jupyter-server-proxy->cuxfilter-cu12==24.10.*) (23.1.0)\n",
            "Requirement already satisfied: jupyter-client>=6.1.12 in /usr/local/lib/python3.10/dist-packages (from jupyter-server>=1.24.0->jupyter-server-proxy->cuxfilter-cu12==24.10.*) (6.1.12)\n",
            "Requirement already satisfied: jupyter-core!=5.0.*,>=4.12 in /usr/local/lib/python3.10/dist-packages (from jupyter-server>=1.24.0->jupyter-server-proxy->cuxfilter-cu12==24.10.*) (5.7.2)\n",
            "Requirement already satisfied: nbconvert>=6.4.4 in /usr/local/lib/python3.10/dist-packages (from jupyter-server>=1.24.0->jupyter-server-proxy->cuxfilter-cu12==24.10.*) (7.16.4)\n",
            "Requirement already satisfied: nbformat>=5.2.0 in /usr/local/lib/python3.10/dist-packages (from jupyter-server>=1.24.0->jupyter-server-proxy->cuxfilter-cu12==24.10.*) (5.10.4)\n",
            "Requirement already satisfied: prometheus-client in /usr/local/lib/python3.10/dist-packages (from jupyter-server>=1.24.0->jupyter-server-proxy->cuxfilter-cu12==24.10.*) (0.21.0)\n",
            "Requirement already satisfied: pyzmq>=17 in /usr/local/lib/python3.10/dist-packages (from jupyter-server>=1.24.0->jupyter-server-proxy->cuxfilter-cu12==24.10.*) (24.0.1)\n",
            "Requirement already satisfied: Send2Trash in /usr/local/lib/python3.10/dist-packages (from jupyter-server>=1.24.0->jupyter-server-proxy->cuxfilter-cu12==24.10.*) (1.8.3)\n",
            "Requirement already satisfied: terminado>=0.8.3 in /usr/local/lib/python3.10/dist-packages (from jupyter-server>=1.24.0->jupyter-server-proxy->cuxfilter-cu12==24.10.*) (0.18.1)\n",
            "Requirement already satisfied: websocket-client in /usr/local/lib/python3.10/dist-packages (from jupyter-server>=1.24.0->jupyter-server-proxy->cuxfilter-cu12==24.10.*) (1.8.0)\n",
            "Requirement already satisfied: mdurl~=0.1 in /usr/local/lib/python3.10/dist-packages (from markdown-it-py->panel>=1.0->cuxfilter-cu12==24.10.*) (0.1.2)\n",
            "Requirement already satisfied: certifi in /usr/local/lib/python3.10/dist-packages (from pyogrio>=0.7.2->geopandas>=1.0.0->cuspatial-cu12==24.10.*) (2024.8.30)\n",
            "Requirement already satisfied: six>=1.5 in /usr/local/lib/python3.10/dist-packages (from python-dateutil>=2.8.2->pandas<2.2.3dev0,>=2.0->cudf-cu12==24.10.*) (1.16.0)\n",
            "Requirement already satisfied: webencodings in /usr/local/lib/python3.10/dist-packages (from bleach->panel>=1.0->cuxfilter-cu12==24.10.*) (0.5.1)\n",
            "Requirement already satisfied: uc-micro-py in /usr/local/lib/python3.10/dist-packages (from linkify-it-py->panel>=1.0->cuxfilter-cu12==24.10.*) (1.0.3)\n",
            "Requirement already satisfied: charset-normalizer<4,>=2 in /usr/local/lib/python3.10/dist-packages (from requests->datashader>=0.15->cuxfilter-cu12==24.10.*) (3.4.0)\n",
            "Requirement already satisfied: sniffio>=1.1 in /usr/local/lib/python3.10/dist-packages (from anyio<4,>=3.1.0->jupyter-server>=1.24.0->jupyter-server-proxy->cuxfilter-cu12==24.10.*) (1.3.1)\n",
            "Requirement already satisfied: exceptiongroup in /usr/local/lib/python3.10/dist-packages (from anyio<4,>=3.1.0->jupyter-server>=1.24.0->jupyter-server-proxy->cuxfilter-cu12==24.10.*) (1.2.2)\n",
            "Requirement already satisfied: zipp>=3.20 in /usr/local/lib/python3.10/dist-packages (from importlib-metadata>=4.13.0->dask==2024.9.0->rapids-dask-dependency==24.10.*->cuml-cu12==24.10.*) (3.21.0)\n",
            "Requirement already satisfied: platformdirs>=2.5 in /usr/local/lib/python3.10/dist-packages (from jupyter-core!=5.0.*,>=4.12->jupyter-server>=1.24.0->jupyter-server-proxy->cuxfilter-cu12==24.10.*) (4.3.6)\n",
            "Requirement already satisfied: beautifulsoup4 in /usr/local/lib/python3.10/dist-packages (from nbconvert>=6.4.4->jupyter-server>=1.24.0->jupyter-server-proxy->cuxfilter-cu12==24.10.*) (4.12.3)\n",
            "Requirement already satisfied: defusedxml in /usr/local/lib/python3.10/dist-packages (from nbconvert>=6.4.4->jupyter-server>=1.24.0->jupyter-server-proxy->cuxfilter-cu12==24.10.*) (0.7.1)\n",
            "Requirement already satisfied: jupyterlab-pygments in /usr/local/lib/python3.10/dist-packages (from nbconvert>=6.4.4->jupyter-server>=1.24.0->jupyter-server-proxy->cuxfilter-cu12==24.10.*) (0.3.0)\n",
            "Requirement already satisfied: mistune<4,>=2.0.3 in /usr/local/lib/python3.10/dist-packages (from nbconvert>=6.4.4->jupyter-server>=1.24.0->jupyter-server-proxy->cuxfilter-cu12==24.10.*) (3.0.2)\n",
            "Requirement already satisfied: nbclient>=0.5.0 in /usr/local/lib/python3.10/dist-packages (from nbconvert>=6.4.4->jupyter-server>=1.24.0->jupyter-server-proxy->cuxfilter-cu12==24.10.*) (0.10.0)\n",
            "Requirement already satisfied: pandocfilters>=1.4.1 in /usr/local/lib/python3.10/dist-packages (from nbconvert>=6.4.4->jupyter-server>=1.24.0->jupyter-server-proxy->cuxfilter-cu12==24.10.*) (1.5.1)\n",
            "Requirement already satisfied: tinycss2 in /usr/local/lib/python3.10/dist-packages (from nbconvert>=6.4.4->jupyter-server>=1.24.0->jupyter-server-proxy->cuxfilter-cu12==24.10.*) (1.4.0)\n",
            "Requirement already satisfied: fastjsonschema>=2.15 in /usr/local/lib/python3.10/dist-packages (from nbformat>=5.2.0->jupyter-server>=1.24.0->jupyter-server-proxy->cuxfilter-cu12==24.10.*) (2.20.0)\n",
            "Requirement already satisfied: jsonschema>=2.6 in /usr/local/lib/python3.10/dist-packages (from nbformat>=5.2.0->jupyter-server>=1.24.0->jupyter-server-proxy->cuxfilter-cu12==24.10.*) (4.23.0)\n",
            "Requirement already satisfied: ptyprocess in /usr/local/lib/python3.10/dist-packages (from terminado>=0.8.3->jupyter-server>=1.24.0->jupyter-server-proxy->cuxfilter-cu12==24.10.*) (0.7.0)\n",
            "Requirement already satisfied: argon2-cffi-bindings in /usr/local/lib/python3.10/dist-packages (from argon2-cffi->jupyter-server>=1.24.0->jupyter-server-proxy->cuxfilter-cu12==24.10.*) (21.2.0)\n",
            "Requirement already satisfied: jsonschema-specifications>=2023.03.6 in /usr/local/lib/python3.10/dist-packages (from jsonschema>=2.6->nbformat>=5.2.0->jupyter-server>=1.24.0->jupyter-server-proxy->cuxfilter-cu12==24.10.*) (2024.10.1)\n",
            "Requirement already satisfied: referencing>=0.28.4 in /usr/local/lib/python3.10/dist-packages (from jsonschema>=2.6->nbformat>=5.2.0->jupyter-server>=1.24.0->jupyter-server-proxy->cuxfilter-cu12==24.10.*) (0.35.1)\n",
            "Requirement already satisfied: rpds-py>=0.7.1 in /usr/local/lib/python3.10/dist-packages (from jsonschema>=2.6->nbformat>=5.2.0->jupyter-server>=1.24.0->jupyter-server-proxy->cuxfilter-cu12==24.10.*) (0.21.0)\n",
            "Requirement already satisfied: cffi>=1.0.1 in /usr/local/lib/python3.10/dist-packages (from argon2-cffi-bindings->argon2-cffi->jupyter-server>=1.24.0->jupyter-server-proxy->cuxfilter-cu12==24.10.*) (1.17.1)\n",
            "Requirement already satisfied: soupsieve>1.2 in /usr/local/lib/python3.10/dist-packages (from beautifulsoup4->nbconvert>=6.4.4->jupyter-server>=1.24.0->jupyter-server-proxy->cuxfilter-cu12==24.10.*) (2.6)\n",
            "Requirement already satisfied: pycparser in /usr/local/lib/python3.10/dist-packages (from cffi>=1.0.1->argon2-cffi-bindings->argon2-cffi->jupyter-server>=1.24.0->jupyter-server-proxy->cuxfilter-cu12==24.10.*) (2.22)\n",
            "Downloading treelite-4.3.0-py3-none-manylinux2014_x86_64.whl (915 kB)\n",
            "   ━━━━━━━━━━━━━━━━━━━━━━━━━━━━━━━━━━━━━━━━ 916.0/916.0 kB 18.9 MB/s eta 0:00:00\n",
            "Downloading dask-2024.9.0-py3-none-any.whl (1.3 MB)\n",
            "   ━━━━━━━━━━━━━━━━━━━━━━━━━━━━━━━━━━━━━━━━ 1.3/1.3 MB 57.1 MB/s eta 0:00:00\n",
            "Downloading dask_expr-1.1.14-py3-none-any.whl (242 kB)\n",
            "   ━━━━━━━━━━━━━━━━━━━━━━━━━━━━━━━━━━━━━━━━ 242.6/242.6 kB 23.0 MB/s eta 0:00:00\n",
            "Downloading distributed-2024.9.0-py3-none-any.whl (1.0 MB)\n",
            "   ━━━━━━━━━━━━━━━━━━━━━━━━━━━━━━━━━━━━━━━━ 1.0/1.0 MB 57.3 MB/s eta 0:00:00\n",
            "Downloading datashader-0.16.3-py2.py3-none-any.whl (18.3 MB)\n",
            "   ━━━━━━━━━━━━━━━━━━━━━━━━━━━━━━━━━━━━━━━━ 18.3/18.3 MB 95.6 MB/s eta 0:00:00\n",
            "Downloading jupyter_server_proxy-4.4.0-py3-none-any.whl (37 kB)\n",
            "Downloading libucx_cu12-1.17.0-py3-none-manylinux_2_28_x86_64.whl (26.9 MB)\n",
            "   ━━━━━━━━━━━━━━━━━━━━━━━━━━━━━━━━━━━━━━━━ 26.9/26.9 MB 18.9 MB/s eta 0:00:00\n",
            "Downloading pynvml-11.4.1-py3-none-any.whl (46 kB)\n",
            "   ━━━━━━━━━━━━━━━━━━━━━━━━━━━━━━━━━━━━━━━━ 47.0/47.0 kB 4.0 MB/s eta 0:00:00\n",
            "Downloading simpervisor-1.0.0-py3-none-any.whl (8.3 kB)\n",
            "Downloading zict-3.0.0-py2.py3-none-any.whl (43 kB)\n",
            "   ━━━━━━━━━━━━━━━━━━━━━━━━━━━━━━━━━━━━━━━━ 43.3/43.3 kB 3.9 MB/s eta 0:00:00\n",
            "Downloading pyct-0.5.0-py2.py3-none-any.whl (15 kB)\n",
            "Downloading sortedcontainers-2.4.0-py2.py3-none-any.whl (29 kB)\n",
            "Downloading tblib-3.0.0-py3-none-any.whl (12 kB)\n",
            "Installing collected packages: sortedcontainers, zict, tblib, simpervisor, pynvml, pyct, libucx-cu12, libcuspatial-cu12, ucx-py-cu12, treelite, libucxx-cu12, dask, cuproj-cu12, ucxx-cu12, distributed, dask-expr, cucim-cu12, rapids-dask-dependency, datashader, cuvs-cu12, distributed-ucxx-cu12, dask-cudf-cu12, dask-cuda, cuspatial-cu12, raft-dask-cu12, cuml-cu12, cugraph-cu12, jupyter-server-proxy, cuxfilter-cu12\n",
            "  Attempting uninstall: pynvml\n",
            "    Found existing installation: pynvml 11.5.3\n",
            "    Uninstalling pynvml-11.5.3:\n",
            "      Successfully uninstalled pynvml-11.5.3\n",
            "  Attempting uninstall: dask\n",
            "    Found existing installation: dask 2024.10.0\n",
            "    Uninstalling dask-2024.10.0:\n",
            "      Successfully uninstalled dask-2024.10.0\n",
            "Successfully installed cucim-cu12-24.10.0 cugraph-cu12-24.10.0 cuml-cu12-24.10.0 cuproj-cu12-24.10.0 cuspatial-cu12-24.10.0 cuvs-cu12-24.10.0 cuxfilter-cu12-24.10.0 dask-2024.9.0 dask-cuda-24.10.0 dask-cudf-cu12-24.10.1 dask-expr-1.1.14 datashader-0.16.3 distributed-2024.9.0 distributed-ucxx-cu12-0.40.0 jupyter-server-proxy-4.4.0 libcuspatial-cu12-24.10.0 libucx-cu12-1.17.0 libucxx-cu12-0.40.0 pyct-0.5.0 pynvml-11.4.1 raft-dask-cu12-24.10.0 rapids-dask-dependency-24.10.0 simpervisor-1.0.0 sortedcontainers-2.4.0 tblib-3.0.0 treelite-4.3.0 ucx-py-cu12-0.40.0 ucxx-cu12-0.40.0 zict-3.0.0\n",
            "\n",
            "        ***********************************************************************\n",
            "        The pip install of RAPIDS is complete.\n",
            "        \n",
            "        Please do not run any further installation from the conda based installation methods, as they may cause issues!\n",
            "        \n",
            "        Please ensure that you're pulling from the git repo to remain updated with the latest working install scripts.\n",
            "\n",
            "        Troubleshooting:\n",
            "            - If there is an installation failure, please check back on RAPIDSAI owned templates/notebooks to see how to update your personal files. \n",
            "            - If an installation failure persists when using the latest script, please make an issue on https://github.com/rapidsai-community/rapidsai-csp-utils\n",
            "        ***********************************************************************\n",
            "        \n"
          ]
        }
      ]
    },
    {
      "cell_type": "code",
      "source": [
        "import cuml\n",
        "cuml.__version__"
      ],
      "metadata": {
        "colab": {
          "base_uri": "https://localhost:8080/",
          "height": 35
        },
        "id": "fs23hlUF38LP",
        "outputId": "d2ff3ff5-0d0c-4f34-957a-facd6d958676"
      },
      "id": "fs23hlUF38LP",
      "execution_count": null,
      "outputs": [
        {
          "output_type": "execute_result",
          "data": {
            "text/plain": [
              "'24.10.00'"
            ],
            "application/vnd.google.colaboratory.intrinsic+json": {
              "type": "string"
            }
          },
          "metadata": {},
          "execution_count": 9
        }
      ]
    },
    {
      "cell_type": "markdown",
      "id": "d269a758-f92a-4983-8ba3-ed834e3cd0aa",
      "metadata": {
        "id": "d269a758-f92a-4983-8ba3-ed834e3cd0aa"
      },
      "source": [
        "The CitiBike data is available for download directly from an BigQuery. In the following cell, we import the data from 2014 only.\n",
        "\n",
        "\n",
        "_You can change the years and the number of years in the cell below by altering the `WHERE` statement._"
      ]
    },
    {
      "cell_type": "code",
      "source": [
        "#@title Provide Google Credentials to Colab Runtime (May Require Manually Copy/Pasting Authentication Code)\n",
        "from google.colab import auth\n",
        "auth.authenticate_user()\n",
        "print('Authenticated')"
      ],
      "metadata": {
        "colab": {
          "base_uri": "https://localhost:8080/"
        },
        "id": "IHDOrRcGMxd2",
        "outputId": "6a67714e-6e5b-4e72-ad4e-2969c0ba1a6d"
      },
      "id": "IHDOrRcGMxd2",
      "execution_count": null,
      "outputs": [
        {
          "output_type": "stream",
          "name": "stdout",
          "text": [
            "Authenticated\n"
          ]
        }
      ]
    },
    {
      "cell_type": "code",
      "source": [
        "#@title Enter Google Cloud/BigQuery Project ID\n",
        "project_id = 'ae-bootcamp-439104' #@param{type:\"string\"}\n",
        "\n",
        "# Package used for interfacing w/ BigQuery from Python\n",
        "from google.cloud import bigquery\n",
        "\n",
        "# Create BigQuery client\n",
        "bq_client = bigquery.Client(project = project_id)"
      ],
      "metadata": {
        "id": "s7oIUnAuMzcM"
      },
      "id": "s7oIUnAuMzcM",
      "execution_count": null,
      "outputs": []
    },
    {
      "cell_type": "code",
      "source": [
        "import os\n",
        "os.environ"
      ],
      "metadata": {
        "id": "EmGSE9DY7nNy"
      },
      "id": "EmGSE9DY7nNy",
      "execution_count": null,
      "outputs": []
    },
    {
      "cell_type": "code",
      "source": [
        "import os\n",
        "import time\n",
        "import cupy as cp\n",
        "import cudf\n",
        "from google.cloud import bigquery"
      ],
      "metadata": {
        "id": "orVtEmaX70Ka"
      },
      "id": "orVtEmaX70Ka",
      "execution_count": null,
      "outputs": []
    },
    {
      "cell_type": "code",
      "execution_count": null,
      "id": "f6c87a6e-246d-43bc-a302-0a3b62870dcf",
      "metadata": {
        "id": "f6c87a6e-246d-43bc-a302-0a3b62870dcf"
      },
      "outputs": [],
      "source": [
        "#os.environ.setdefault(\"GCLOUD_PROJECT\", \"ae-bootcamp-439104\")\n",
        "\n",
        "query = \"\"\"\n",
        "SELECT *\n",
        "FROM `bigquery-public-data.new_york_citibike.citibike_trips`\n",
        "WHERE EXTRACT(YEAR from starttime) = 2014\n",
        "\"\"\"\n",
        "#client = bigquery.Client()\n",
        "client = bigquery.Client(project = project_id)\n",
        "job = client.query(query)\n",
        "pd_df = job.to_dataframe()\n",
        "df = cudf.from_pandas(pd_df)\n",
        "del(pd_df)"
      ]
    },
    {
      "cell_type": "markdown",
      "id": "2fe90e95-bc1d-44ec-a0ba-ff4a1a5c5fd3",
      "metadata": {
        "id": "2fe90e95-bc1d-44ec-a0ba-ff4a1a5c5fd3"
      },
      "source": [
        "Let's look at the data."
      ]
    },
    {
      "cell_type": "code",
      "execution_count": null,
      "id": "1113a504-2bc6-49a8-98a2-e4ac97381e9e",
      "metadata": {
        "colab": {
          "base_uri": "https://localhost:8080/",
          "height": 400
        },
        "id": "1113a504-2bc6-49a8-98a2-e4ac97381e9e",
        "outputId": "c734fc3c-9fba-40c9-ee9f-7942af9229ea"
      },
      "outputs": [
        {
          "output_type": "execute_result",
          "data": {
            "text/plain": [
              "   tripduration           starttime            stoptime  start_station_id  \\\n",
              "0          1540 2014-05-07 16:46:57 2014-05-07 17:12:37               521   \n",
              "1           825 2014-08-06 20:23:08 2014-08-06 20:36:53               446   \n",
              "2          1012 2014-06-23 08:05:36 2014-06-23 08:22:28               521   \n",
              "3           737 2014-09-27 09:05:34 2014-09-27 09:17:51               285   \n",
              "4           250 2014-10-30 08:15:56 2014-10-30 08:20:06               241   \n",
              "\n",
              "            start_station_name  start_station_latitude  \\\n",
              "0              8 Ave & W 31 St               40.750450   \n",
              "1              W 24 St & 7 Ave               40.744876   \n",
              "2              8 Ave & W 31 St               40.750450   \n",
              "3           Broadway & E 14 St               40.734546   \n",
              "4  DeKalb Ave & S Portland Ave               40.689810   \n",
              "\n",
              "   start_station_longitude  end_station_id            end_station_name  \\\n",
              "0               -73.994811             317           E 6 St & Avenue B   \n",
              "1               -73.995299            2003             1 Ave & E 18 St   \n",
              "2               -73.994811             377            6 Ave & Canal St   \n",
              "3               -73.990741             355       Bayard St & Baxter St   \n",
              "4               -73.974931             242  Flushing Ave & Carlton Ave   \n",
              "\n",
              "   end_station_latitude  end_station_longitude  bikeid    usertype  \\\n",
              "0             40.724537             -73.981854   18662  Subscriber   \n",
              "1             40.734161             -73.980243   18514  Subscriber   \n",
              "2             40.722438             -74.005664   20934  Subscriber   \n",
              "3             40.716021             -73.999744   14703  Subscriber   \n",
              "4             40.697883             -73.973503   20896  Subscriber   \n",
              "\n",
              "   birth_year  gender customer_plan  \n",
              "0        1970  female                \n",
              "1        1987  female                \n",
              "2        1967    male                \n",
              "3        1973    male                \n",
              "4        1979    male                "
            ],
            "text/html": [
              "<div>\n",
              "<style scoped>\n",
              "    .dataframe tbody tr th:only-of-type {\n",
              "        vertical-align: middle;\n",
              "    }\n",
              "\n",
              "    .dataframe tbody tr th {\n",
              "        vertical-align: top;\n",
              "    }\n",
              "\n",
              "    .dataframe thead th {\n",
              "        text-align: right;\n",
              "    }\n",
              "</style>\n",
              "<table border=\"1\" class=\"dataframe\">\n",
              "  <thead>\n",
              "    <tr style=\"text-align: right;\">\n",
              "      <th></th>\n",
              "      <th>tripduration</th>\n",
              "      <th>starttime</th>\n",
              "      <th>stoptime</th>\n",
              "      <th>start_station_id</th>\n",
              "      <th>start_station_name</th>\n",
              "      <th>start_station_latitude</th>\n",
              "      <th>start_station_longitude</th>\n",
              "      <th>end_station_id</th>\n",
              "      <th>end_station_name</th>\n",
              "      <th>end_station_latitude</th>\n",
              "      <th>end_station_longitude</th>\n",
              "      <th>bikeid</th>\n",
              "      <th>usertype</th>\n",
              "      <th>birth_year</th>\n",
              "      <th>gender</th>\n",
              "      <th>customer_plan</th>\n",
              "    </tr>\n",
              "  </thead>\n",
              "  <tbody>\n",
              "    <tr>\n",
              "      <th>0</th>\n",
              "      <td>1540</td>\n",
              "      <td>2014-05-07 16:46:57</td>\n",
              "      <td>2014-05-07 17:12:37</td>\n",
              "      <td>521</td>\n",
              "      <td>8 Ave &amp; W 31 St</td>\n",
              "      <td>40.750450</td>\n",
              "      <td>-73.994811</td>\n",
              "      <td>317</td>\n",
              "      <td>E 6 St &amp; Avenue B</td>\n",
              "      <td>40.724537</td>\n",
              "      <td>-73.981854</td>\n",
              "      <td>18662</td>\n",
              "      <td>Subscriber</td>\n",
              "      <td>1970</td>\n",
              "      <td>female</td>\n",
              "      <td></td>\n",
              "    </tr>\n",
              "    <tr>\n",
              "      <th>1</th>\n",
              "      <td>825</td>\n",
              "      <td>2014-08-06 20:23:08</td>\n",
              "      <td>2014-08-06 20:36:53</td>\n",
              "      <td>446</td>\n",
              "      <td>W 24 St &amp; 7 Ave</td>\n",
              "      <td>40.744876</td>\n",
              "      <td>-73.995299</td>\n",
              "      <td>2003</td>\n",
              "      <td>1 Ave &amp; E 18 St</td>\n",
              "      <td>40.734161</td>\n",
              "      <td>-73.980243</td>\n",
              "      <td>18514</td>\n",
              "      <td>Subscriber</td>\n",
              "      <td>1987</td>\n",
              "      <td>female</td>\n",
              "      <td></td>\n",
              "    </tr>\n",
              "    <tr>\n",
              "      <th>2</th>\n",
              "      <td>1012</td>\n",
              "      <td>2014-06-23 08:05:36</td>\n",
              "      <td>2014-06-23 08:22:28</td>\n",
              "      <td>521</td>\n",
              "      <td>8 Ave &amp; W 31 St</td>\n",
              "      <td>40.750450</td>\n",
              "      <td>-73.994811</td>\n",
              "      <td>377</td>\n",
              "      <td>6 Ave &amp; Canal St</td>\n",
              "      <td>40.722438</td>\n",
              "      <td>-74.005664</td>\n",
              "      <td>20934</td>\n",
              "      <td>Subscriber</td>\n",
              "      <td>1967</td>\n",
              "      <td>male</td>\n",
              "      <td></td>\n",
              "    </tr>\n",
              "    <tr>\n",
              "      <th>3</th>\n",
              "      <td>737</td>\n",
              "      <td>2014-09-27 09:05:34</td>\n",
              "      <td>2014-09-27 09:17:51</td>\n",
              "      <td>285</td>\n",
              "      <td>Broadway &amp; E 14 St</td>\n",
              "      <td>40.734546</td>\n",
              "      <td>-73.990741</td>\n",
              "      <td>355</td>\n",
              "      <td>Bayard St &amp; Baxter St</td>\n",
              "      <td>40.716021</td>\n",
              "      <td>-73.999744</td>\n",
              "      <td>14703</td>\n",
              "      <td>Subscriber</td>\n",
              "      <td>1973</td>\n",
              "      <td>male</td>\n",
              "      <td></td>\n",
              "    </tr>\n",
              "    <tr>\n",
              "      <th>4</th>\n",
              "      <td>250</td>\n",
              "      <td>2014-10-30 08:15:56</td>\n",
              "      <td>2014-10-30 08:20:06</td>\n",
              "      <td>241</td>\n",
              "      <td>DeKalb Ave &amp; S Portland Ave</td>\n",
              "      <td>40.689810</td>\n",
              "      <td>-73.974931</td>\n",
              "      <td>242</td>\n",
              "      <td>Flushing Ave &amp; Carlton Ave</td>\n",
              "      <td>40.697883</td>\n",
              "      <td>-73.973503</td>\n",
              "      <td>20896</td>\n",
              "      <td>Subscriber</td>\n",
              "      <td>1979</td>\n",
              "      <td>male</td>\n",
              "      <td></td>\n",
              "    </tr>\n",
              "  </tbody>\n",
              "</table>\n",
              "</div>"
            ]
          },
          "metadata": {},
          "execution_count": 17
        }
      ],
      "source": [
        "df.head()"
      ]
    },
    {
      "cell_type": "markdown",
      "id": "a72167fa-7e9b-4393-83a2-d0148f01f0d5",
      "metadata": {
        "id": "a72167fa-7e9b-4393-83a2-d0148f01f0d5"
      },
      "source": [
        "Let's see the data types we have from the import."
      ]
    },
    {
      "cell_type": "code",
      "execution_count": null,
      "id": "9ba3c8e1-1703-4f5f-a899-94b8dab073e5",
      "metadata": {
        "colab": {
          "base_uri": "https://localhost:8080/",
          "height": 586
        },
        "id": "9ba3c8e1-1703-4f5f-a899-94b8dab073e5",
        "outputId": "d3a0a116-0e6d-4287-efdc-5f9adedf6513"
      },
      "outputs": [
        {
          "output_type": "execute_result",
          "data": {
            "text/plain": [
              "tripduration                        int64\n",
              "starttime                  datetime64[us]\n",
              "stoptime                   datetime64[us]\n",
              "start_station_id                    int64\n",
              "start_station_name                 object\n",
              "start_station_latitude            float64\n",
              "start_station_longitude           float64\n",
              "end_station_id                      int64\n",
              "end_station_name                   object\n",
              "end_station_latitude              float64\n",
              "end_station_longitude             float64\n",
              "bikeid                              int64\n",
              "usertype                           object\n",
              "birth_year                          int64\n",
              "gender                             object\n",
              "customer_plan                      object\n",
              "dtype: object"
            ],
            "text/html": [
              "<div>\n",
              "<style scoped>\n",
              "    .dataframe tbody tr th:only-of-type {\n",
              "        vertical-align: middle;\n",
              "    }\n",
              "\n",
              "    .dataframe tbody tr th {\n",
              "        vertical-align: top;\n",
              "    }\n",
              "\n",
              "    .dataframe thead th {\n",
              "        text-align: right;\n",
              "    }\n",
              "</style>\n",
              "<table border=\"1\" class=\"dataframe\">\n",
              "  <thead>\n",
              "    <tr style=\"text-align: right;\">\n",
              "      <th></th>\n",
              "      <th>0</th>\n",
              "    </tr>\n",
              "  </thead>\n",
              "  <tbody>\n",
              "    <tr>\n",
              "      <th>tripduration</th>\n",
              "      <td>int64</td>\n",
              "    </tr>\n",
              "    <tr>\n",
              "      <th>starttime</th>\n",
              "      <td>datetime64[us]</td>\n",
              "    </tr>\n",
              "    <tr>\n",
              "      <th>stoptime</th>\n",
              "      <td>datetime64[us]</td>\n",
              "    </tr>\n",
              "    <tr>\n",
              "      <th>start_station_id</th>\n",
              "      <td>int64</td>\n",
              "    </tr>\n",
              "    <tr>\n",
              "      <th>start_station_name</th>\n",
              "      <td>object</td>\n",
              "    </tr>\n",
              "    <tr>\n",
              "      <th>start_station_latitude</th>\n",
              "      <td>float64</td>\n",
              "    </tr>\n",
              "    <tr>\n",
              "      <th>start_station_longitude</th>\n",
              "      <td>float64</td>\n",
              "    </tr>\n",
              "    <tr>\n",
              "      <th>end_station_id</th>\n",
              "      <td>int64</td>\n",
              "    </tr>\n",
              "    <tr>\n",
              "      <th>end_station_name</th>\n",
              "      <td>object</td>\n",
              "    </tr>\n",
              "    <tr>\n",
              "      <th>end_station_latitude</th>\n",
              "      <td>float64</td>\n",
              "    </tr>\n",
              "    <tr>\n",
              "      <th>end_station_longitude</th>\n",
              "      <td>float64</td>\n",
              "    </tr>\n",
              "    <tr>\n",
              "      <th>bikeid</th>\n",
              "      <td>int64</td>\n",
              "    </tr>\n",
              "    <tr>\n",
              "      <th>usertype</th>\n",
              "      <td>object</td>\n",
              "    </tr>\n",
              "    <tr>\n",
              "      <th>birth_year</th>\n",
              "      <td>int64</td>\n",
              "    </tr>\n",
              "    <tr>\n",
              "      <th>gender</th>\n",
              "      <td>object</td>\n",
              "    </tr>\n",
              "    <tr>\n",
              "      <th>customer_plan</th>\n",
              "      <td>object</td>\n",
              "    </tr>\n",
              "  </tbody>\n",
              "</table>\n",
              "</div><br><label><b>dtype:</b> object</label>"
            ]
          },
          "metadata": {},
          "execution_count": 18
        }
      ],
      "source": [
        "df.dtypes"
      ]
    },
    {
      "cell_type": "markdown",
      "id": "834a78ad-b15f-4a85-91f3-033cc9d25364",
      "metadata": {
        "id": "834a78ad-b15f-4a85-91f3-033cc9d25364"
      },
      "source": [
        "Let's take a quick look at the data. We see that when `df.describe()` is given mixed types, we should tell it to include all the data."
      ]
    },
    {
      "cell_type": "code",
      "execution_count": null,
      "id": "dc5dd7fc-0632-4626-b9d9-ee90358b81cf",
      "metadata": {
        "colab": {
          "base_uri": "https://localhost:8080/",
          "height": 518
        },
        "id": "dc5dd7fc-0632-4626-b9d9-ee90358b81cf",
        "outputId": "a48a9872-6ec3-4073-f214-03bce8b5fa5b"
      },
      "outputs": [
        {
          "output_type": "execute_result",
          "data": {
            "text/plain": [
              "       tripduration                   starttime                    stoptime  \\\n",
              "count     8081216.0                     8081216                     8081216   \n",
              "unique         <NA>                        <NA>                        <NA>   \n",
              "top            <NA>                        <NA>                        <NA>   \n",
              "freq           <NA>                        <NA>                        <NA>   \n",
              "mean     851.175207  2014-07-17 07:55:18.836191  2014-07-17 08:09:30.002931   \n",
              "min            60.0         2014-01-01 00:00:06         2014-01-01 00:07:57   \n",
              "25%           390.0  2014-05-14 22:13:10.500000  2014-05-14 22:25:26.250000   \n",
              "50%           616.0  2014-07-21 11:34:18.500000  2014-07-21 11:50:06.000000   \n",
              "75%          1010.0  2014-09-22 17:10:14.500000  2014-09-22 17:23:55.000000   \n",
              "max       5416640.0         2014-12-31 23:58:16         2015-01-02 14:33:32   \n",
              "std     4488.807328                        <NA>                        <NA>   \n",
              "\n",
              "       start_station_id start_station_name start_station_latitude  \\\n",
              "count         8081216.0            8081216              8081216.0   \n",
              "unique             <NA>                344                   <NA>   \n",
              "top                <NA>    8 Ave & W 31 St                   <NA>   \n",
              "freq               <NA>             100498                   <NA>   \n",
              "mean         447.975454               <NA>              40.734568   \n",
              "min                72.0               <NA>              40.680342   \n",
              "25%               305.0               <NA>              40.721655   \n",
              "50%               404.0               <NA>              40.736245   \n",
              "75%               489.0               <NA>               40.75002   \n",
              "max              3002.0               <NA>              40.771522   \n",
              "std          362.021311               <NA>               0.019329   \n",
              "\n",
              "       start_station_longitude end_station_id    end_station_name  \\\n",
              "count                8081216.0      8081216.0             8081216   \n",
              "unique                    <NA>           <NA>                 344   \n",
              "top                       <NA>           <NA>  E 17 St & Broadway   \n",
              "freq                      <NA>           <NA>               85494   \n",
              "mean                -73.991041     446.712358                <NA>   \n",
              "min                 -74.017134           72.0                <NA>   \n",
              "25%                 -73.999947          305.0                <NA>   \n",
              "50%                 -73.990765          404.0                <NA>   \n",
              "75%                  -73.98205          488.0                <NA>   \n",
              "max                 -73.950048         3002.0                <NA>   \n",
              "std                   0.012176     360.686612                <NA>   \n",
              "\n",
              "       end_station_latitude end_station_longitude       bikeid    usertype  \\\n",
              "count             8081216.0             8081216.0    8081216.0     8081216   \n",
              "unique                 <NA>                  <NA>         <NA>           2   \n",
              "top                    <NA>                  <NA>         <NA>  Subscriber   \n",
              "freq                   <NA>                  <NA>         <NA>     7287721   \n",
              "mean              40.734295            -73.991177   18120.6611        <NA>   \n",
              "min               40.680342            -74.017134      14529.0        <NA>   \n",
              "25%               40.721101             -74.00004      16329.0        <NA>   \n",
              "50%               40.735877            -73.990931      18112.0        <NA>   \n",
              "75%               40.749156             -73.98205      19897.0        <NA>   \n",
              "max               40.771522            -73.950048      21690.0        <NA>   \n",
              "std                0.019332              0.012243  2081.094092        <NA>   \n",
              "\n",
              "         birth_year   gender customer_plan  \n",
              "count     7287504.0  8081216       8081216  \n",
              "unique         <NA>        3             1  \n",
              "top            <NA>     male                \n",
              "freq           <NA>  5635962       8081216  \n",
              "mean    1976.041877     <NA>          <NA>  \n",
              "min          1899.0     <NA>          <NA>  \n",
              "25%          1968.0     <NA>          <NA>  \n",
              "50%          1978.0     <NA>          <NA>  \n",
              "75%          1985.0     <NA>          <NA>  \n",
              "max          1998.0     <NA>          <NA>  \n",
              "std       11.337674     <NA>          <NA>  "
            ],
            "text/html": [
              "<div>\n",
              "<style scoped>\n",
              "    .dataframe tbody tr th:only-of-type {\n",
              "        vertical-align: middle;\n",
              "    }\n",
              "\n",
              "    .dataframe tbody tr th {\n",
              "        vertical-align: top;\n",
              "    }\n",
              "\n",
              "    .dataframe thead th {\n",
              "        text-align: right;\n",
              "    }\n",
              "</style>\n",
              "<table border=\"1\" class=\"dataframe\">\n",
              "  <thead>\n",
              "    <tr style=\"text-align: right;\">\n",
              "      <th></th>\n",
              "      <th>tripduration</th>\n",
              "      <th>starttime</th>\n",
              "      <th>stoptime</th>\n",
              "      <th>start_station_id</th>\n",
              "      <th>start_station_name</th>\n",
              "      <th>start_station_latitude</th>\n",
              "      <th>start_station_longitude</th>\n",
              "      <th>end_station_id</th>\n",
              "      <th>end_station_name</th>\n",
              "      <th>end_station_latitude</th>\n",
              "      <th>end_station_longitude</th>\n",
              "      <th>bikeid</th>\n",
              "      <th>usertype</th>\n",
              "      <th>birth_year</th>\n",
              "      <th>gender</th>\n",
              "      <th>customer_plan</th>\n",
              "    </tr>\n",
              "  </thead>\n",
              "  <tbody>\n",
              "    <tr>\n",
              "      <th>count</th>\n",
              "      <td>8081216.0</td>\n",
              "      <td>8081216</td>\n",
              "      <td>8081216</td>\n",
              "      <td>8081216.0</td>\n",
              "      <td>8081216</td>\n",
              "      <td>8081216.0</td>\n",
              "      <td>8081216.0</td>\n",
              "      <td>8081216.0</td>\n",
              "      <td>8081216</td>\n",
              "      <td>8081216.0</td>\n",
              "      <td>8081216.0</td>\n",
              "      <td>8081216.0</td>\n",
              "      <td>8081216</td>\n",
              "      <td>7287504.0</td>\n",
              "      <td>8081216</td>\n",
              "      <td>8081216</td>\n",
              "    </tr>\n",
              "    <tr>\n",
              "      <th>unique</th>\n",
              "      <td>&lt;NA&gt;</td>\n",
              "      <td>&lt;NA&gt;</td>\n",
              "      <td>&lt;NA&gt;</td>\n",
              "      <td>&lt;NA&gt;</td>\n",
              "      <td>344</td>\n",
              "      <td>&lt;NA&gt;</td>\n",
              "      <td>&lt;NA&gt;</td>\n",
              "      <td>&lt;NA&gt;</td>\n",
              "      <td>344</td>\n",
              "      <td>&lt;NA&gt;</td>\n",
              "      <td>&lt;NA&gt;</td>\n",
              "      <td>&lt;NA&gt;</td>\n",
              "      <td>2</td>\n",
              "      <td>&lt;NA&gt;</td>\n",
              "      <td>3</td>\n",
              "      <td>1</td>\n",
              "    </tr>\n",
              "    <tr>\n",
              "      <th>top</th>\n",
              "      <td>&lt;NA&gt;</td>\n",
              "      <td>&lt;NA&gt;</td>\n",
              "      <td>&lt;NA&gt;</td>\n",
              "      <td>&lt;NA&gt;</td>\n",
              "      <td>8 Ave &amp; W 31 St</td>\n",
              "      <td>&lt;NA&gt;</td>\n",
              "      <td>&lt;NA&gt;</td>\n",
              "      <td>&lt;NA&gt;</td>\n",
              "      <td>E 17 St &amp; Broadway</td>\n",
              "      <td>&lt;NA&gt;</td>\n",
              "      <td>&lt;NA&gt;</td>\n",
              "      <td>&lt;NA&gt;</td>\n",
              "      <td>Subscriber</td>\n",
              "      <td>&lt;NA&gt;</td>\n",
              "      <td>male</td>\n",
              "      <td></td>\n",
              "    </tr>\n",
              "    <tr>\n",
              "      <th>freq</th>\n",
              "      <td>&lt;NA&gt;</td>\n",
              "      <td>&lt;NA&gt;</td>\n",
              "      <td>&lt;NA&gt;</td>\n",
              "      <td>&lt;NA&gt;</td>\n",
              "      <td>100498</td>\n",
              "      <td>&lt;NA&gt;</td>\n",
              "      <td>&lt;NA&gt;</td>\n",
              "      <td>&lt;NA&gt;</td>\n",
              "      <td>85494</td>\n",
              "      <td>&lt;NA&gt;</td>\n",
              "      <td>&lt;NA&gt;</td>\n",
              "      <td>&lt;NA&gt;</td>\n",
              "      <td>7287721</td>\n",
              "      <td>&lt;NA&gt;</td>\n",
              "      <td>5635962</td>\n",
              "      <td>8081216</td>\n",
              "    </tr>\n",
              "    <tr>\n",
              "      <th>mean</th>\n",
              "      <td>851.175207</td>\n",
              "      <td>2014-07-17 07:55:18.836191</td>\n",
              "      <td>2014-07-17 08:09:30.002931</td>\n",
              "      <td>447.975454</td>\n",
              "      <td>&lt;NA&gt;</td>\n",
              "      <td>40.734568</td>\n",
              "      <td>-73.991041</td>\n",
              "      <td>446.712358</td>\n",
              "      <td>&lt;NA&gt;</td>\n",
              "      <td>40.734295</td>\n",
              "      <td>-73.991177</td>\n",
              "      <td>18120.6611</td>\n",
              "      <td>&lt;NA&gt;</td>\n",
              "      <td>1976.041877</td>\n",
              "      <td>&lt;NA&gt;</td>\n",
              "      <td>&lt;NA&gt;</td>\n",
              "    </tr>\n",
              "    <tr>\n",
              "      <th>min</th>\n",
              "      <td>60.0</td>\n",
              "      <td>2014-01-01 00:00:06</td>\n",
              "      <td>2014-01-01 00:07:57</td>\n",
              "      <td>72.0</td>\n",
              "      <td>&lt;NA&gt;</td>\n",
              "      <td>40.680342</td>\n",
              "      <td>-74.017134</td>\n",
              "      <td>72.0</td>\n",
              "      <td>&lt;NA&gt;</td>\n",
              "      <td>40.680342</td>\n",
              "      <td>-74.017134</td>\n",
              "      <td>14529.0</td>\n",
              "      <td>&lt;NA&gt;</td>\n",
              "      <td>1899.0</td>\n",
              "      <td>&lt;NA&gt;</td>\n",
              "      <td>&lt;NA&gt;</td>\n",
              "    </tr>\n",
              "    <tr>\n",
              "      <th>25%</th>\n",
              "      <td>390.0</td>\n",
              "      <td>2014-05-14 22:13:10.500000</td>\n",
              "      <td>2014-05-14 22:25:26.250000</td>\n",
              "      <td>305.0</td>\n",
              "      <td>&lt;NA&gt;</td>\n",
              "      <td>40.721655</td>\n",
              "      <td>-73.999947</td>\n",
              "      <td>305.0</td>\n",
              "      <td>&lt;NA&gt;</td>\n",
              "      <td>40.721101</td>\n",
              "      <td>-74.00004</td>\n",
              "      <td>16329.0</td>\n",
              "      <td>&lt;NA&gt;</td>\n",
              "      <td>1968.0</td>\n",
              "      <td>&lt;NA&gt;</td>\n",
              "      <td>&lt;NA&gt;</td>\n",
              "    </tr>\n",
              "    <tr>\n",
              "      <th>50%</th>\n",
              "      <td>616.0</td>\n",
              "      <td>2014-07-21 11:34:18.500000</td>\n",
              "      <td>2014-07-21 11:50:06.000000</td>\n",
              "      <td>404.0</td>\n",
              "      <td>&lt;NA&gt;</td>\n",
              "      <td>40.736245</td>\n",
              "      <td>-73.990765</td>\n",
              "      <td>404.0</td>\n",
              "      <td>&lt;NA&gt;</td>\n",
              "      <td>40.735877</td>\n",
              "      <td>-73.990931</td>\n",
              "      <td>18112.0</td>\n",
              "      <td>&lt;NA&gt;</td>\n",
              "      <td>1978.0</td>\n",
              "      <td>&lt;NA&gt;</td>\n",
              "      <td>&lt;NA&gt;</td>\n",
              "    </tr>\n",
              "    <tr>\n",
              "      <th>75%</th>\n",
              "      <td>1010.0</td>\n",
              "      <td>2014-09-22 17:10:14.500000</td>\n",
              "      <td>2014-09-22 17:23:55.000000</td>\n",
              "      <td>489.0</td>\n",
              "      <td>&lt;NA&gt;</td>\n",
              "      <td>40.75002</td>\n",
              "      <td>-73.98205</td>\n",
              "      <td>488.0</td>\n",
              "      <td>&lt;NA&gt;</td>\n",
              "      <td>40.749156</td>\n",
              "      <td>-73.98205</td>\n",
              "      <td>19897.0</td>\n",
              "      <td>&lt;NA&gt;</td>\n",
              "      <td>1985.0</td>\n",
              "      <td>&lt;NA&gt;</td>\n",
              "      <td>&lt;NA&gt;</td>\n",
              "    </tr>\n",
              "    <tr>\n",
              "      <th>max</th>\n",
              "      <td>5416640.0</td>\n",
              "      <td>2014-12-31 23:58:16</td>\n",
              "      <td>2015-01-02 14:33:32</td>\n",
              "      <td>3002.0</td>\n",
              "      <td>&lt;NA&gt;</td>\n",
              "      <td>40.771522</td>\n",
              "      <td>-73.950048</td>\n",
              "      <td>3002.0</td>\n",
              "      <td>&lt;NA&gt;</td>\n",
              "      <td>40.771522</td>\n",
              "      <td>-73.950048</td>\n",
              "      <td>21690.0</td>\n",
              "      <td>&lt;NA&gt;</td>\n",
              "      <td>1998.0</td>\n",
              "      <td>&lt;NA&gt;</td>\n",
              "      <td>&lt;NA&gt;</td>\n",
              "    </tr>\n",
              "    <tr>\n",
              "      <th>std</th>\n",
              "      <td>4488.807328</td>\n",
              "      <td>&lt;NA&gt;</td>\n",
              "      <td>&lt;NA&gt;</td>\n",
              "      <td>362.021311</td>\n",
              "      <td>&lt;NA&gt;</td>\n",
              "      <td>0.019329</td>\n",
              "      <td>0.012176</td>\n",
              "      <td>360.686612</td>\n",
              "      <td>&lt;NA&gt;</td>\n",
              "      <td>0.019332</td>\n",
              "      <td>0.012243</td>\n",
              "      <td>2081.094092</td>\n",
              "      <td>&lt;NA&gt;</td>\n",
              "      <td>11.337674</td>\n",
              "      <td>&lt;NA&gt;</td>\n",
              "      <td>&lt;NA&gt;</td>\n",
              "    </tr>\n",
              "  </tbody>\n",
              "</table>\n",
              "</div>"
            ]
          },
          "metadata": {},
          "execution_count": 19
        }
      ],
      "source": [
        "df.describe(include='all')"
      ]
    },
    {
      "cell_type": "markdown",
      "id": "73f2d6bd-5f2c-45c6-a082-94e12d43764d",
      "metadata": {
        "id": "73f2d6bd-5f2c-45c6-a082-94e12d43764d"
      },
      "source": [
        "## Data Cleaning and Feature Engineering"
      ]
    },
    {
      "cell_type": "markdown",
      "id": "46b157af-574d-42af-89b7-d048653f0238",
      "metadata": {
        "id": "46b157af-574d-42af-89b7-d048653f0238"
      },
      "source": [
        "The data contains some redundant information - `start_station_id` and `end_station_id` are both captured by the station names and latitude/longitude data. We drop this redundant information.\n",
        "\n",
        "We also remove all information about the end station. We wish to predict the duration of the user's ride at the point of pick up, and their bike drop-off destination would not be known to us at that time.\n",
        "\n",
        "We don't expect the `bike_id` to give us insight into ride duration so we remove that from the data set."
      ]
    },
    {
      "cell_type": "markdown",
      "id": "a655e7f0-0bc2-4343-aa06-bfe0e51ee0cf",
      "metadata": {
        "id": "a655e7f0-0bc2-4343-aa06-bfe0e51ee0cf"
      },
      "source": [
        "We drop infromation based on `tripduration`, starting with observations where `tripduration` is negative - Bikes can do a lot of things, but they can't travel back in time!  \n",
        "\n",
        "We remove any trips lasting less than five minutes, as these are likely to indicate a malfunctioning bike which is quickly returned, rather than a real journey.\n",
        "\n",
        "We also drop all rides that lasted longer than 10 hours from our data  -  The citi bikes are supposed to be used for relatively short trips round the city, and are not suitable for long journeys. We don't want this data to skew our model.\n",
        "\n",
        "Finally, we drop all recorded rides that contain missing data for any of the remaining columns."
      ]
    },
    {
      "cell_type": "code",
      "execution_count": null,
      "id": "f036645b-93c8-4ccf-a9e7-70a28680e4b8",
      "metadata": {
        "id": "f036645b-93c8-4ccf-a9e7-70a28680e4b8"
      },
      "outputs": [],
      "source": [
        "df = df.drop(['start_station_id', 'end_station_id', 'end_station_name', 'bikeid', 'stoptime', 'end_station_latitude', 'end_station_longitude'], axis=1)\n"
      ]
    },
    {
      "cell_type": "code",
      "execution_count": null,
      "id": "5e99ac38-bf0f-491f-b330-8d85fda30a79",
      "metadata": {
        "id": "5e99ac38-bf0f-491f-b330-8d85fda30a79"
      },
      "outputs": [],
      "source": [
        "df['tripduration'] = df['tripduration'].where(df['tripduration']>300)\n",
        "df['tripduration'] = df['tripduration'].where(df['tripduration']<=36000)\n",
        "df = df.dropna()"
      ]
    },
    {
      "cell_type": "markdown",
      "id": "36ae7a39-c3a4-4ec2-9c44-7e922de24d72",
      "metadata": {
        "id": "36ae7a39-c3a4-4ec2-9c44-7e922de24d72"
      },
      "source": [
        "Next, we grab some things from the time fields that will be useful as features for our model. We're doing to create a variable grouping the time of day into one of six periods, the day of week, the month, and then we're going to drop those time variables. The exact second a bike was rented or returned likely has limited explanatory value."
      ]
    },
    {
      "cell_type": "code",
      "execution_count": null,
      "id": "5f30c9bb-7787-4272-874d-e464492b7938",
      "metadata": {
        "id": "5f30c9bb-7787-4272-874d-e464492b7938"
      },
      "outputs": [],
      "source": [
        "df['start_hour_of_the_day'] = df['starttime'].dt.hour\n",
        "df['dow'] = df['starttime'].dt.dayofweek\n",
        "df['month'] = df['starttime'].dt.month\n",
        "df = df.drop(['starttime'], axis=1)\n"
      ]
    },
    {
      "cell_type": "markdown",
      "id": "d5c2b01c-71e8-4da1-854f-0c2bfa1d0d73",
      "metadata": {
        "id": "d5c2b01c-71e8-4da1-854f-0c2bfa1d0d73"
      },
      "source": [
        "We're going to use cuML for the next bit of ETL to encode labels into numbers for our analysis."
      ]
    },
    {
      "cell_type": "code",
      "execution_count": null,
      "id": "0ce325f5-3aef-4e66-a5dd-01ff3c3979ee",
      "metadata": {
        "id": "0ce325f5-3aef-4e66-a5dd-01ff3c3979ee"
      },
      "outputs": [],
      "source": [
        "import cuml\n",
        "\n",
        "le = cuml.LabelEncoder()\n",
        "df['start_station_name'] = le.fit_transform(df['start_station_name'])\n",
        "df['usertype'] = le.fit_transform(df['usertype'])\n",
        "df['gender'] = le.fit_transform(df['gender'])\n",
        "df['customer_plan'] = le.fit_transform(df['customer_plan'])"
      ]
    },
    {
      "cell_type": "markdown",
      "id": "71317b31-dcd3-48cb-a15e-dbeac1d8bd65",
      "metadata": {
        "id": "71317b31-dcd3-48cb-a15e-dbeac1d8bd65"
      },
      "source": [
        "Given that we are aiming to predict the length of the ride in seconds, it seems unfair to include both the hour at which the journey starts and the hour at which the journey stops in our feature vectors - let's remove this now, and see how well we can predict trip duration."
      ]
    },
    {
      "cell_type": "code",
      "execution_count": null,
      "id": "1cfe29b1-1f6f-40dc-8e44-9831a0c3e1f8",
      "metadata": {
        "id": "1cfe29b1-1f6f-40dc-8e44-9831a0c3e1f8",
        "colab": {
          "base_uri": "https://localhost:8080/",
          "height": 226
        },
        "outputId": "5933c0fd-98d8-452e-a192-df3ef4bb3427"
      },
      "outputs": [
        {
          "output_type": "execute_result",
          "data": {
            "text/plain": [
              "   tripduration  start_station_name  start_station_latitude  \\\n",
              "0          1540                  17               40.750450   \n",
              "1           825                 290               40.744876   \n",
              "2          1012                  17               40.750450   \n",
              "3           737                  46               40.734546   \n",
              "5           435                 102               40.732233   \n",
              "\n",
              "   start_station_longitude  usertype  birth_year  gender  customer_plan  \\\n",
              "0               -73.994811         1        1970       0              0   \n",
              "1               -73.995299         1        1987       0              0   \n",
              "2               -73.994811         1        1967       1              0   \n",
              "3               -73.990741         1        1973       1              0   \n",
              "5               -73.988900         1        1976       1              0   \n",
              "\n",
              "   start_hour_of_the_day  dow  month  \n",
              "0                     16    2      5  \n",
              "1                     20    2      8  \n",
              "2                      8    0      6  \n",
              "3                      9    5      9  \n",
              "5                     14    6      3  "
            ],
            "text/html": [
              "<div>\n",
              "<style scoped>\n",
              "    .dataframe tbody tr th:only-of-type {\n",
              "        vertical-align: middle;\n",
              "    }\n",
              "\n",
              "    .dataframe tbody tr th {\n",
              "        vertical-align: top;\n",
              "    }\n",
              "\n",
              "    .dataframe thead th {\n",
              "        text-align: right;\n",
              "    }\n",
              "</style>\n",
              "<table border=\"1\" class=\"dataframe\">\n",
              "  <thead>\n",
              "    <tr style=\"text-align: right;\">\n",
              "      <th></th>\n",
              "      <th>tripduration</th>\n",
              "      <th>start_station_name</th>\n",
              "      <th>start_station_latitude</th>\n",
              "      <th>start_station_longitude</th>\n",
              "      <th>usertype</th>\n",
              "      <th>birth_year</th>\n",
              "      <th>gender</th>\n",
              "      <th>customer_plan</th>\n",
              "      <th>start_hour_of_the_day</th>\n",
              "      <th>dow</th>\n",
              "      <th>month</th>\n",
              "    </tr>\n",
              "  </thead>\n",
              "  <tbody>\n",
              "    <tr>\n",
              "      <th>0</th>\n",
              "      <td>1540</td>\n",
              "      <td>17</td>\n",
              "      <td>40.750450</td>\n",
              "      <td>-73.994811</td>\n",
              "      <td>1</td>\n",
              "      <td>1970</td>\n",
              "      <td>0</td>\n",
              "      <td>0</td>\n",
              "      <td>16</td>\n",
              "      <td>2</td>\n",
              "      <td>5</td>\n",
              "    </tr>\n",
              "    <tr>\n",
              "      <th>1</th>\n",
              "      <td>825</td>\n",
              "      <td>290</td>\n",
              "      <td>40.744876</td>\n",
              "      <td>-73.995299</td>\n",
              "      <td>1</td>\n",
              "      <td>1987</td>\n",
              "      <td>0</td>\n",
              "      <td>0</td>\n",
              "      <td>20</td>\n",
              "      <td>2</td>\n",
              "      <td>8</td>\n",
              "    </tr>\n",
              "    <tr>\n",
              "      <th>2</th>\n",
              "      <td>1012</td>\n",
              "      <td>17</td>\n",
              "      <td>40.750450</td>\n",
              "      <td>-73.994811</td>\n",
              "      <td>1</td>\n",
              "      <td>1967</td>\n",
              "      <td>1</td>\n",
              "      <td>0</td>\n",
              "      <td>8</td>\n",
              "      <td>0</td>\n",
              "      <td>6</td>\n",
              "    </tr>\n",
              "    <tr>\n",
              "      <th>3</th>\n",
              "      <td>737</td>\n",
              "      <td>46</td>\n",
              "      <td>40.734546</td>\n",
              "      <td>-73.990741</td>\n",
              "      <td>1</td>\n",
              "      <td>1973</td>\n",
              "      <td>1</td>\n",
              "      <td>0</td>\n",
              "      <td>9</td>\n",
              "      <td>5</td>\n",
              "      <td>9</td>\n",
              "    </tr>\n",
              "    <tr>\n",
              "      <th>5</th>\n",
              "      <td>435</td>\n",
              "      <td>102</td>\n",
              "      <td>40.732233</td>\n",
              "      <td>-73.988900</td>\n",
              "      <td>1</td>\n",
              "      <td>1976</td>\n",
              "      <td>1</td>\n",
              "      <td>0</td>\n",
              "      <td>14</td>\n",
              "      <td>6</td>\n",
              "      <td>3</td>\n",
              "    </tr>\n",
              "  </tbody>\n",
              "</table>\n",
              "</div>"
            ]
          },
          "metadata": {},
          "execution_count": 24
        }
      ],
      "source": [
        "df.head()"
      ]
    },
    {
      "cell_type": "code",
      "execution_count": null,
      "id": "c938040e-a0f8-4f37-8005-eabb97f5c3ae",
      "metadata": {
        "id": "c938040e-a0f8-4f37-8005-eabb97f5c3ae",
        "colab": {
          "base_uri": "https://localhost:8080/"
        },
        "outputId": "ce2b9c71-f211-435f-8354-22284369f30c"
      },
      "outputs": [
        {
          "output_type": "execute_result",
          "data": {
            "text/plain": [
              "(6158698, 11)"
            ]
          },
          "metadata": {},
          "execution_count": 25
        }
      ],
      "source": [
        "df.shape"
      ]
    },
    {
      "cell_type": "markdown",
      "id": "edd61d9e-7631-46c8-b792-c78840ab1451",
      "metadata": {
        "id": "edd61d9e-7631-46c8-b792-c78840ab1451"
      },
      "source": [
        "Now that our data is cleaned up, it's time to see how well we can predict trip duration. We'll start by making a simple XGBoost model and then we will move onto an ensemble with some other methods with cuML."
      ]
    },
    {
      "cell_type": "markdown",
      "id": "48d34673-1e08-4dd4-973e-947a8f311c38",
      "metadata": {
        "id": "48d34673-1e08-4dd4-973e-947a8f311c38"
      },
      "source": [
        "## XGBoost Prediction Model"
      ]
    },
    {
      "cell_type": "markdown",
      "id": "26ed63a0-6efb-4316-9bcc-6bc758d45c2f",
      "metadata": {
        "id": "26ed63a0-6efb-4316-9bcc-6bc758d45c2f"
      },
      "source": [
        "First, we want to split our data into train and test sets. We do this with cuML."
      ]
    },
    {
      "cell_type": "code",
      "execution_count": null,
      "id": "e726248f-b027-482a-9368-d0e3c4127987",
      "metadata": {
        "id": "e726248f-b027-482a-9368-d0e3c4127987"
      },
      "outputs": [],
      "source": [
        "X_train, X_test, y_train, y_test = cuml.train_test_split(df, 'tripduration', train_size=0.8)"
      ]
    },
    {
      "cell_type": "code",
      "execution_count": null,
      "id": "72428e6d-36fe-4c8c-abc0-d87737e188a4",
      "metadata": {
        "id": "72428e6d-36fe-4c8c-abc0-d87737e188a4"
      },
      "outputs": [],
      "source": [
        "import xgboost as xgb\n",
        "\n",
        "dtrain = xgb.DMatrix(X_train, y_train)\n",
        "dtest = xgb.DMatrix(X_test, y_test)"
      ]
    },
    {
      "cell_type": "code",
      "execution_count": null,
      "id": "36a1ea3d-9a23-41ee-9017-8864f053b956",
      "metadata": {
        "id": "36a1ea3d-9a23-41ee-9017-8864f053b956",
        "colab": {
          "base_uri": "https://localhost:8080/"
        },
        "outputId": "4e161ba9-0b9d-4ae9-9c68-6cde06723ea6"
      },
      "outputs": [
        {
          "output_type": "stream",
          "name": "stderr",
          "text": [
            "/usr/local/lib/python3.10/dist-packages/xgboost/core.py:158: UserWarning: [14:21:01] WARNING: /workspace/src/common/error_msg.cc:27: The tree method `gpu_hist` is deprecated since 2.0.0. To use GPU training, set the `device` parameter to CUDA instead.\n",
            "\n",
            "    E.g. tree_method = \"hist\", device = \"cuda\"\n",
            "\n",
            "  warnings.warn(smsg, UserWarning)\n"
          ]
        }
      ],
      "source": [
        "params = {\n",
        "    'learning_rate': 0.01,\n",
        "    'max_depth': 5,\n",
        "    'objective': 'reg:squarederror',\n",
        "    'subsample': 0.8,\n",
        "    'disable_default_eval_metric':True,\n",
        "    'tree_method':'gpu_hist'\n",
        "}\n",
        "\n",
        "trained_model = xgb.train(\n",
        "    params,\n",
        "    dtrain,\n",
        "    num_boost_round=1000,\n",
        "    evals=[(dtrain, 'train')]\n",
        ")"
      ]
    },
    {
      "cell_type": "markdown",
      "id": "bf0fdf0d-d20f-42c7-9d0f-2369202336db",
      "metadata": {
        "id": "bf0fdf0d-d20f-42c7-9d0f-2369202336db"
      },
      "source": [
        "We'll save the trained model, so that we can re-load it later."
      ]
    },
    {
      "cell_type": "code",
      "execution_count": null,
      "id": "f0654d51-4be7-4d6d-add6-b9f835646854",
      "metadata": {
        "id": "f0654d51-4be7-4d6d-add6-b9f835646854",
        "colab": {
          "base_uri": "https://localhost:8080/"
        },
        "outputId": "5244b3f9-9ffa-42bc-d178-660afd228fa7"
      },
      "outputs": [
        {
          "output_type": "stream",
          "name": "stderr",
          "text": [
            "/usr/local/lib/python3.10/dist-packages/xgboost/core.py:158: UserWarning: [14:21:27] WARNING: /workspace/src/common/error_msg.cc:27: The tree method `gpu_hist` is deprecated since 2.0.0. To use GPU training, set the `device` parameter to CUDA instead.\n",
            "\n",
            "    E.g. tree_method = \"hist\", device = \"cuda\"\n",
            "\n",
            "  warnings.warn(smsg, UserWarning)\n",
            "/usr/local/lib/python3.10/dist-packages/xgboost/core.py:158: UserWarning: [14:21:27] WARNING: /workspace/src/c_api/c_api.cc:1374: Saving model in the UBJSON format as default.  You can use file extension: `json`, `ubj` or `deprecated` to choose between formats.\n",
            "  warnings.warn(smsg, UserWarning)\n"
          ]
        }
      ],
      "source": [
        "trained_model.save_model(\"xgb.model\")"
      ]
    },
    {
      "cell_type": "markdown",
      "id": "e7321699-beb4-4327-8475-bb929b591970",
      "metadata": {
        "id": "e7321699-beb4-4327-8475-bb929b591970"
      },
      "source": [
        "Now let's see how well our fitted model looks out in the wild."
      ]
    },
    {
      "cell_type": "code",
      "execution_count": null,
      "id": "5cb7c566-0ff6-4a26-ac16-5c567eefbb2e",
      "metadata": {
        "tags": [],
        "id": "5cb7c566-0ff6-4a26-ac16-5c567eefbb2e",
        "colab": {
          "base_uri": "https://localhost:8080/"
        },
        "outputId": "87d8d2ef-b046-48b0-b069-b55c0a42a264"
      },
      "outputs": [
        {
          "output_type": "stream",
          "name": "stdout",
          "text": [
            "RMSE: 755.2099016258087\n"
          ]
        }
      ],
      "source": [
        "prediction = trained_model.predict(dtest).astype('int64')\n",
        "print(\"RMSE: {}\".format(cp.sqrt(cuml.metrics.mean_squared_error(y_test.values, prediction))))"
      ]
    },
    {
      "cell_type": "markdown",
      "id": "87d1e350-00f1-489c-91a2-db4e6682472a",
      "metadata": {
        "id": "87d1e350-00f1-489c-91a2-db4e6682472a"
      },
      "source": [
        "Looks like our model's predictions are off 13 minutes with our quick model - why not see if you can change the parameter values and improve the model's performance."
      ]
    },
    {
      "cell_type": "markdown",
      "id": "a2b7bd16-9fcc-41b6-a7d7-34783a5fc4d1",
      "metadata": {
        "id": "a2b7bd16-9fcc-41b6-a7d7-34783a5fc4d1"
      },
      "source": [
        "## Model Explainability with SHAP\n",
        "\n",
        "When using complex models, such as XGBoost, it's not always straightforward to understand the predictions made by the model. In this section we use Shapley Additive Explanation (SHAP) values to gain insight into the Machine Learning model.\n",
        "\n",
        "Computing SHAP values is a computationally expensive procedure, but we accelerate the procedure by running on NVIDIA GPUs. To save more time, we compute SHAP values on a subset of our data.\n",
        "\n",
        "Much of the code in this section is taken from this great [blog](https://medium.com/rapids-ai/gpu-accelerated-shap-values-with-xgboost-1-3-and-rapids-587fad6822) on GPU-Accelerated SHAP Values."
      ]
    },
    {
      "cell_type": "code",
      "execution_count": null,
      "id": "11622a9e-8da0-4152-b05a-7208b9ebdaf5",
      "metadata": {
        "id": "11622a9e-8da0-4152-b05a-7208b9ebdaf5"
      },
      "outputs": [],
      "source": [
        "shap_sample = xgb.DMatrix(X_test.sample(frac=0.01))"
      ]
    },
    {
      "cell_type": "code",
      "execution_count": null,
      "id": "08291f46-95a6-4740-94b8-d459a37f304f",
      "metadata": {
        "id": "08291f46-95a6-4740-94b8-d459a37f304f",
        "colab": {
          "base_uri": "https://localhost:8080/"
        },
        "outputId": "b7fdf1e9-a000-4286-d623-d513921c38d9"
      },
      "outputs": [
        {
          "output_type": "stream",
          "name": "stderr",
          "text": [
            "/usr/local/lib/python3.10/dist-packages/xgboost/core.py:158: UserWarning: [14:21:42] WARNING: /workspace/src/common/error_msg.cc:27: The tree method `gpu_hist` is deprecated since 2.0.0. To use GPU training, set the `device` parameter to CUDA instead.\n",
            "\n",
            "    E.g. tree_method = \"hist\", device = \"cuda\"\n",
            "\n",
            "  warnings.warn(smsg, UserWarning)\n",
            "/usr/local/lib/python3.10/dist-packages/xgboost/core.py:158: UserWarning: [14:21:42] WARNING: /workspace/src/learner.cc:740: \n",
            "Parameters: { \"predictor\" } are not used.\n",
            "\n",
            "  warnings.warn(smsg, UserWarning)\n"
          ]
        },
        {
          "output_type": "stream",
          "name": "stdout",
          "text": [
            "CPU times: user 399 ms, sys: 5.91 ms, total: 405 ms\n",
            "Wall time: 405 ms\n"
          ]
        }
      ],
      "source": [
        "%%time\n",
        "trained_model.set_param({\"predictor\": \"gpu_predictor\"})\n",
        "shap_values = trained_model.predict(shap_sample, pred_contribs=True)"
      ]
    },
    {
      "cell_type": "markdown",
      "id": "ed6a3333-f838-4c32-ad98-3c63a422b451",
      "metadata": {
        "id": "ed6a3333-f838-4c32-ad98-3c63a422b451"
      },
      "source": [
        "We can aggregate and visualse these SHAP values to see which of the features in our data had the most impact on the predictions made by our model."
      ]
    },
    {
      "cell_type": "code",
      "execution_count": null,
      "id": "c78d7688-7e7c-4771-95e1-65c28f3d5c49",
      "metadata": {
        "id": "c78d7688-7e7c-4771-95e1-65c28f3d5c49",
        "colab": {
          "base_uri": "https://localhost:8080/",
          "height": 487
        },
        "outputId": "40f18cab-dd77-4366-ffa9-e7fd951b466d"
      },
      "outputs": [
        {
          "output_type": "display_data",
          "data": {
            "text/plain": [
              "<Figure size 640x480 with 1 Axes>"
            ],
            "image/png": "[encoded data removed]"
          },
          "metadata": {}
        }
      ],
      "source": [
        "import numpy as np\n",
        "import matplotlib.pyplot as plt\n",
        "\n",
        "def plot_feature_importance(feature_names, shap_values):\n",
        " # Get the mean absolute contribution for each feature\n",
        " aggregate = np.mean(np.abs(shap_values[:, 0:-1]), axis=0)\n",
        " # sort by magnitude\n",
        " z = [(x, y) for y, x in sorted(zip(aggregate, feature_names), reverse=True)]\n",
        " z = list(zip(*z))\n",
        " plt.bar(z[0], z[1])\n",
        " plt.xticks(rotation=90)\n",
        " plt.tight_layout()\n",
        " plt.show()\n",
        "\n",
        "\n",
        "plot_feature_importance(X_test.columns, shap_values)"
      ]
    },
    {
      "cell_type": "markdown",
      "id": "22f578dc-c462-4989-8872-be17ed270199",
      "metadata": {
        "id": "22f578dc-c462-4989-8872-be17ed270199"
      },
      "source": [
        "This shows us that the most important features in predicting ride duration are the location of the pick up point.\n",
        "\n",
        "\n",
        "We can also use SHAP to consider the importance of interactions between features. This is more computationally expensive again, but can bring valuable insights. The following cell will take around 100 seconds to run."
      ]
    },
    {
      "cell_type": "code",
      "execution_count": null,
      "id": "ef2fb4f0-89ba-4dd1-ac95-bff88e6d9e69",
      "metadata": {
        "id": "ef2fb4f0-89ba-4dd1-ac95-bff88e6d9e69",
        "colab": {
          "base_uri": "https://localhost:8080/"
        },
        "outputId": "109f146c-f88e-4abf-82a3-ccea4069253a"
      },
      "outputs": [
        {
          "output_type": "stream",
          "name": "stdout",
          "text": [
            "CPU times: user 2.14 s, sys: 11.1 ms, total: 2.15 s\n",
            "Wall time: 2.15 s\n"
          ]
        }
      ],
      "source": [
        "%%time\n",
        "shap_interactions = trained_model.predict(shap_sample, pred_interactions=True)"
      ]
    },
    {
      "cell_type": "code",
      "execution_count": null,
      "id": "2cdd4e2a-d667-40c3-b8e5-0d2f08105e7c",
      "metadata": {
        "id": "2cdd4e2a-d667-40c3-b8e5-0d2f08105e7c",
        "colab": {
          "base_uri": "https://localhost:8080/",
          "height": 487
        },
        "outputId": "2f1c7c18-7d57-4963-9745-939b7af9eb37"
      },
      "outputs": [
        {
          "output_type": "display_data",
          "data": {
            "text/plain": [
              "<Figure size 640x480 with 1 Axes>"
            ],
            "image/png": "[encoded data removed]"
          },
          "metadata": {}
        }
      ],
      "source": [
        "def plot_top_k_interactions(feature_names, shap_interactions, k):\n",
        " # Get the mean absolute contribution for each feature interaction\n",
        " aggregate_interactions = np.mean(np.abs(shap_interactions[:, :-1, :-1]), axis=0)\n",
        " interactions = []\n",
        " for i in range(aggregate_interactions.shape[0]):\n",
        "     for j in range(aggregate_interactions.shape[1]):\n",
        "         if j < i:\n",
        "             interactions.append(\n",
        "             (feature_names[i] + \"-\" + feature_names[j], aggregate_interactions[i][j] * 2))\n",
        " # sort by magnitude\n",
        " interactions.sort(key=lambda x: x[1], reverse=True)\n",
        " interaction_features, interaction_values = map(tuple, zip(*interactions))\n",
        " plt.bar(interaction_features[:k], interaction_values[:k])\n",
        " plt.xticks(rotation=90)\n",
        " plt.tight_layout()\n",
        " plt.show()\n",
        "\n",
        "\n",
        "plot_top_k_interactions(X_test.columns, shap_interactions, 10)"
      ]
    },
    {
      "cell_type": "markdown",
      "id": "70363ba3-213c-431a-ba43-b50d3c760190",
      "metadata": {
        "id": "70363ba3-213c-431a-ba43-b50d3c760190"
      },
      "source": [
        "Here we see (unsurprisingly) that the interactions between the starting longitude and latitude greatly influence the predictions, followed by a location and starting time of ride."
      ]
    },
    {
      "cell_type": "markdown",
      "id": "64e0f44a-a5da-4f1b-b932-619df627d818",
      "metadata": {
        "id": "64e0f44a-a5da-4f1b-b932-619df627d818"
      },
      "source": [
        "## Accelerating Inference\n",
        "\n",
        "Throughout this notebook we have run most of our computation on the GPU. In this Section, we compare the speed it takes to make predictions on a CPU vs the GPU."
      ]
    },
    {
      "cell_type": "code",
      "execution_count": null,
      "id": "a39eceeb-ad1d-435d-b42f-a6a629d3f665",
      "metadata": {
        "id": "a39eceeb-ad1d-435d-b42f-a6a629d3f665"
      },
      "outputs": [],
      "source": [
        "xgb_features = xgb.DMatrix(X_test.astype(\"float32\"))"
      ]
    },
    {
      "cell_type": "markdown",
      "id": "6551d3bf-d3bf-4373-a3cd-4e2c2270af9a",
      "metadata": {
        "id": "6551d3bf-d3bf-4373-a3cd-4e2c2270af9a"
      },
      "source": [
        "### CPU\n",
        "\n",
        "We first re-load the model from file, as XGBoost caches the results of previous predictions."
      ]
    },
    {
      "cell_type": "code",
      "execution_count": null,
      "id": "c920c434-5a91-4b7d-baa1-8e042abe147d",
      "metadata": {
        "id": "c920c434-5a91-4b7d-baa1-8e042abe147d",
        "colab": {
          "base_uri": "https://localhost:8080/"
        },
        "outputId": "b6326f42-e15a-405f-ec78-e07671ea76c4"
      },
      "outputs": [
        {
          "output_type": "stream",
          "name": "stderr",
          "text": [
            "/usr/local/lib/python3.10/dist-packages/xgboost/core.py:158: UserWarning: [14:22:19] WARNING: /workspace/src/learner.cc:740: \n",
            "Parameters: { \"predictor\" } are not used.\n",
            "\n",
            "  warnings.warn(smsg, UserWarning)\n"
          ]
        },
        {
          "output_type": "stream",
          "name": "stdout",
          "text": [
            "CPU times: user 30.2 s, sys: 60 ms, total: 30.2 s\n",
            "Wall time: 20.3 s\n"
          ]
        }
      ],
      "source": [
        "%%time\n",
        "model = xgb.Booster(model_file=\"xgb.model\")\n",
        "model.set_param({\"predictor\": \"cpu_predictor\"})\n",
        "predictions = model.predict(xgb_features)"
      ]
    },
    {
      "cell_type": "markdown",
      "id": "ffcdce86-9436-46cf-a5e8-e5f680c007a1",
      "metadata": {
        "id": "ffcdce86-9436-46cf-a5e8-e5f680c007a1"
      },
      "source": [
        "### GPU\n",
        "\n",
        "Now we can again reload the model, and this time run the same predictions on the GPU"
      ]
    },
    {
      "cell_type": "code",
      "execution_count": null,
      "id": "cdd7cbc4-6e27-4678-99c8-a014d2a07267",
      "metadata": {
        "id": "cdd7cbc4-6e27-4678-99c8-a014d2a07267",
        "colab": {
          "base_uri": "https://localhost:8080/"
        },
        "outputId": "78267d71-780f-4548-e0ed-8b7f23063146"
      },
      "outputs": [
        {
          "output_type": "stream",
          "name": "stderr",
          "text": [
            "/usr/local/lib/python3.10/dist-packages/xgboost/core.py:158: UserWarning: [14:22:46] WARNING: /workspace/src/learner.cc:740: \n",
            "Parameters: { \"predictor\" } are not used.\n",
            "\n",
            "  warnings.warn(smsg, UserWarning)\n"
          ]
        },
        {
          "output_type": "stream",
          "name": "stdout",
          "text": [
            "CPU times: user 29.5 s, sys: 52.5 ms, total: 29.5 s\n",
            "Wall time: 16.8 s\n"
          ]
        }
      ],
      "source": [
        "%%time\n",
        "model = xgb.Booster(model_file=\"xgb.model\")\n",
        "model.set_param({\"predictor\": \"gpu_predictor\"})\n",
        "predictions = model.predict(xgb_features)"
      ]
    },
    {
      "cell_type": "markdown",
      "id": "ca2fc191-57c6-4c13-88ca-09539fcca314",
      "metadata": {
        "id": "ca2fc191-57c6-4c13-88ca-09539fcca314"
      },
      "source": [
        "So you can see that the GPU allows us to make predictions in a fraction of the time taken on CPU. This is ideal for situations requiring real-time inference."
      ]
    },
    {
      "cell_type": "markdown",
      "id": "56b014a6-5a26-4e1a-92c1-40b84fe4bf65",
      "metadata": {
        "id": "56b014a6-5a26-4e1a-92c1-40b84fe4bf65"
      },
      "source": [
        "## Conclusion\n",
        "\n",
        "In this notebook you've seen how we can use cuML, cuDF and XGBoost to explore and clean data, compute feature vectors and train a machine learning model to predict ride duration on the CitiBike Data Set.\n",
        "\n",
        "To find out more, check out [RAPIDS.ai](http://rapids.ai)."
      ]
    }
  ],
  "metadata": {
    "environment": {
      "kernel": "conda-env-rapids-22.04-py",
      "name": "common-cu110.m91",
      "type": "gcloud",
      "uri": "gcr.io/deeplearning-platform-release/base-cu110:m91"
    },
    "kernelspec": {
      "display_name": "Python [conda env:rapids-22.04]",
      "language": "python",
      "name": "conda-env-rapids-22.04-py"
    },
    "language_info": {
      "codemirror_mode": {
        "name": "ipython",
        "version": 3
      },
      "file_extension": ".py",
      "mimetype": "text/x-python",
      "name": "python",
      "nbconvert_exporter": "python",
      "pygments_lexer": "ipython3",
      "version": "3.8.13"
    },
    "colab": {
      "provenance": [],
      "gpuType": "T4"
    },
    "accelerator": "GPU"
  },
  "nbformat": 4,
  "nbformat_minor": 5
}